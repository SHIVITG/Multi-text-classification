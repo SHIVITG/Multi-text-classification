{
 "cells": [
  {
   "cell_type": "markdown",
   "metadata": {},
   "source": [
    "### Assignment: Author Prediction\n",
    "\n",
    "**Problem Statement** -Given the content, your task is to predict the author.\n",
    "\n",
    "---\n",
    "**About Dataset**\n",
    ">File 1 - content_author_assignment_train.csv\n",
    "\n",
    ">File 2 - content_author_assignment_test.csv\n",
    "\n",
    "The train file for any analysis and training\n",
    "The test file can solely be used for prediction.\n",
    "\n",
    "Columns - content, author\n",
    "\n",
    "**Evaluation criteria** -cross entropy loss\n"
   ]
  },
  {
   "cell_type": "markdown",
   "metadata": {},
   "source": [
    "---\n",
    "#### **Loading required libraries**\n",
    "> Importing support utlis file for preprocessing and feature extraction as well"
   ]
  },
  {
   "cell_type": "code",
   "execution_count": 1,
   "metadata": {},
   "outputs": [],
   "source": [
    "import csv\n",
    "import sys\n",
    "import pandas as pd\n",
    "from sklearn import svm\n",
    "from xgboost import XGBClassifier\n",
    "from sklearn.preprocessing import LabelEncoder\n",
    "from sklearn.linear_model import SGDClassifier\n",
    "from sklearn.naive_bayes import MultinomialNB\n",
    "from sklearn.neighbors import KNeighborsClassifier\n",
    "from sklearn.multiclass import OneVsRestClassifier\n",
    "from sklearn.ensemble import RandomForestClassifier, AdaBoostClassifier\n",
    "from sklearn.feature_extraction.text import CountVectorizer,TfidfVectorizer\n",
    "from sklearn.model_selection import GridSearchCV,cross_val_score,train_test_split\n",
    "from sklearn.metrics import accuracy_score, precision_score, recall_score, f1_score, roc_curve, auc,log_loss\n",
    "\n",
    "sys.path.append(\"../\")\n",
    "# other local imports\n",
    "from utlis.nlp_utlis import *\n",
    "from utlis.text_analysis import FeatureEng"
   ]
  },
  {
   "cell_type": "markdown",
   "metadata": {},
   "source": [
    "> **Initializing Global Parameters to be used during Classifiction**"
   ]
  },
  {
   "cell_type": "code",
   "execution_count": 2,
   "metadata": {},
   "outputs": [],
   "source": [
    "'''Global Parameters'''\n",
    "features = FeatureEng\n",
    "LE = LabelEncoder()\n",
    "tf_idf_vectorizer = TfidfVectorizer(lowercase=True)\n",
    "MNB_classifier = MultinomialNB(alpha=0.5)\n",
    "xgBoost = XGBClassifier()\n",
    "rest_classifier = OneVsRestClassifier(SGDClassifier(loss='log', alpha=0.001,penalty='l2'), n_jobs=-1)\n",
    "rf = RandomForestClassifier(random_state=3)\n",
    "\n",
    "model_dict = {'XGBoost Classifier' : xgBoost,\n",
    "              'Multinomial Naive Bayes' : MNB_classifier,\n",
    "              'OneVsRest Classifier': rest_classifier,\n",
    "              'Random Forest': rf,\n",
    "              'AdaBoost': AdaBoostClassifier(random_state=3),\n",
    "              'K Nearest Neighbor': KNeighborsClassifier(),\n",
    "              'Stochastic Gradient Descent' : SGDClassifier(random_state=3, loss='log')}"
   ]
  },
  {
   "cell_type": "markdown",
   "metadata": {},
   "source": [
    "> **Reading Training Data into Dataframe**"
   ]
  },
  {
   "cell_type": "code",
   "execution_count": 3,
   "metadata": {},
   "outputs": [
    {
     "data": {
      "text/html": [
       "<div>\n",
       "<style scoped>\n",
       "    .dataframe tbody tr th:only-of-type {\n",
       "        vertical-align: middle;\n",
       "    }\n",
       "\n",
       "    .dataframe tbody tr th {\n",
       "        vertical-align: top;\n",
       "    }\n",
       "\n",
       "    .dataframe thead th {\n",
       "        text-align: right;\n",
       "    }\n",
       "</style>\n",
       "<table border=\"1\" class=\"dataframe\">\n",
       "  <thead>\n",
       "    <tr style=\"text-align: right;\">\n",
       "      <th></th>\n",
       "      <th>content</th>\n",
       "      <th>author</th>\n",
       "    </tr>\n",
       "  </thead>\n",
       "  <tbody>\n",
       "    <tr>\n",
       "      <th>0</th>\n",
       "      <td>Fourth time this season, heavy rains paralysed...</td>\n",
       "      <td>The Quint</td>\n",
       "    </tr>\n",
       "    <tr>\n",
       "      <th>1</th>\n",
       "      <td>The BJP has made a significant gain of 11 addi...</td>\n",
       "      <td>PTI</td>\n",
       "    </tr>\n",
       "    <tr>\n",
       "      <th>2</th>\n",
       "      <td>Rajya Sabha saw two disruptions on Thursday al...</td>\n",
       "      <td>FP Staff</td>\n",
       "    </tr>\n",
       "    <tr>\n",
       "      <th>3</th>\n",
       "      <td>Senior IPS officer Subodh Jaiswal, who had bee...</td>\n",
       "      <td>The Quint</td>\n",
       "    </tr>\n",
       "    <tr>\n",
       "      <th>4</th>\n",
       "      <td>The government, on 27 February, announced a si...</td>\n",
       "      <td>PTI</td>\n",
       "    </tr>\n",
       "  </tbody>\n",
       "</table>\n",
       "</div>"
      ],
      "text/plain": [
       "                                             content     author\n",
       "0  Fourth time this season, heavy rains paralysed...  The Quint\n",
       "1  The BJP has made a significant gain of 11 addi...        PTI\n",
       "2  Rajya Sabha saw two disruptions on Thursday al...   FP Staff\n",
       "3  Senior IPS officer Subodh Jaiswal, who had bee...  The Quint\n",
       "4  The government, on 27 February, announced a si...        PTI"
      ]
     },
     "execution_count": 3,
     "metadata": {},
     "output_type": "execute_result"
    }
   ],
   "source": [
    "df = pd.read_csv(\"../data/content_author_assignment_train.csv\")\n",
    "df.head()"
   ]
  },
  {
   "cell_type": "markdown",
   "metadata": {},
   "source": [
    ">**Preprocessing content column by applying basic cleaning pipeline**"
   ]
  },
  {
   "cell_type": "code",
   "execution_count": 4,
   "metadata": {},
   "outputs": [
    {
     "name": "stdout",
     "output_type": "stream",
     "text": [
      " Shape of dataframe passed: (712, 4)\n"
     ]
    },
    {
     "data": {
      "text/html": [
       "<div>\n",
       "<style scoped>\n",
       "    .dataframe tbody tr th:only-of-type {\n",
       "        vertical-align: middle;\n",
       "    }\n",
       "\n",
       "    .dataframe tbody tr th {\n",
       "        vertical-align: top;\n",
       "    }\n",
       "\n",
       "    .dataframe thead th {\n",
       "        text-align: right;\n",
       "    }\n",
       "</style>\n",
       "<table border=\"1\" class=\"dataframe\">\n",
       "  <thead>\n",
       "    <tr style=\"text-align: right;\">\n",
       "      <th></th>\n",
       "      <th>content</th>\n",
       "      <th>author</th>\n",
       "      <th>cleaned_content</th>\n",
       "      <th>author_id</th>\n",
       "    </tr>\n",
       "  </thead>\n",
       "  <tbody>\n",
       "    <tr>\n",
       "      <th>0</th>\n",
       "      <td>Fourth time this season, heavy rains paralysed...</td>\n",
       "      <td>The Quint</td>\n",
       "      <td>Fourth time season, heavy rains paralysed city...</td>\n",
       "      <td>4</td>\n",
       "    </tr>\n",
       "    <tr>\n",
       "      <th>1</th>\n",
       "      <td>The BJP has made a significant gain of 11 addi...</td>\n",
       "      <td>PTI</td>\n",
       "      <td>The BJP made significant gain 11 additional se...</td>\n",
       "      <td>1</td>\n",
       "    </tr>\n",
       "    <tr>\n",
       "      <th>2</th>\n",
       "      <td>Rajya Sabha saw two disruptions on Thursday al...</td>\n",
       "      <td>FP Staff</td>\n",
       "      <td>Rajya Sabha saw two disruptions Thursday alrea...</td>\n",
       "      <td>0</td>\n",
       "    </tr>\n",
       "    <tr>\n",
       "      <th>3</th>\n",
       "      <td>Senior IPS officer Subodh Jaiswal, who had bee...</td>\n",
       "      <td>The Quint</td>\n",
       "      <td>Senior IPS officer Subodh Jaiswal, working cou...</td>\n",
       "      <td>4</td>\n",
       "    </tr>\n",
       "    <tr>\n",
       "      <th>4</th>\n",
       "      <td>The government, on 27 February, announced a si...</td>\n",
       "      <td>PTI</td>\n",
       "      <td>The government, 27 February, announced signifi...</td>\n",
       "      <td>1</td>\n",
       "    </tr>\n",
       "  </tbody>\n",
       "</table>\n",
       "</div>"
      ],
      "text/plain": [
       "                                             content     author  \\\n",
       "0  Fourth time this season, heavy rains paralysed...  The Quint   \n",
       "1  The BJP has made a significant gain of 11 addi...        PTI   \n",
       "2  Rajya Sabha saw two disruptions on Thursday al...   FP Staff   \n",
       "3  Senior IPS officer Subodh Jaiswal, who had bee...  The Quint   \n",
       "4  The government, on 27 February, announced a si...        PTI   \n",
       "\n",
       "                                     cleaned_content  author_id  \n",
       "0  Fourth time season, heavy rains paralysed city...          4  \n",
       "1  The BJP made significant gain 11 additional se...          1  \n",
       "2  Rajya Sabha saw two disruptions Thursday alrea...          0  \n",
       "3  Senior IPS officer Subodh Jaiswal, working cou...          4  \n",
       "4  The government, 27 February, announced signifi...          1  "
      ]
     },
     "execution_count": 4,
     "metadata": {},
     "output_type": "execute_result"
    }
   ],
   "source": [
    "df['cleaned_content'] = df.content.apply(lambda x: features.clean_text(x))\n",
    "df['cleaned_content'] = df.content.apply(lambda x: features.remove_stopwords(x))\n",
    "# mapped author_name to numbers \n",
    "df['author_id'] = LE.fit_transform(df['author'])\n",
    "print(\" Shape of dataframe passed:\" ,df.shape)\n",
    "df.head()"
   ]
  },
  {
   "cell_type": "code",
   "execution_count": 5,
   "metadata": {},
   "outputs": [
    {
     "data": {
      "text/plain": [
       "{'The Quint': 4,\n",
       " 'PTI': 1,\n",
       " 'FP Staff': 0,\n",
       " 'Press Trust of India': 2,\n",
       " 'Scroll Staff': 3}"
      ]
     },
     "execution_count": 5,
     "metadata": {},
     "output_type": "execute_result"
    }
   ],
   "source": [
    "def get_author_map(df):\n",
    "    author_map = {}\n",
    "    list_of_author = list(df.author.unique())\n",
    "    for i in list_of_author:\n",
    "        value =df.loc[df['author'] == i, 'author_id'].iloc[0]\n",
    "        author_map[i] = value\n",
    "    return author_map\n",
    "\n",
    "author_map = get_author_map(df)\n",
    "author_map"
   ]
  },
  {
   "cell_type": "markdown",
   "metadata": {},
   "source": [
    "## Split data into train and test\n",
    "> For evaluation purposes"
   ]
  },
  {
   "cell_type": "code",
   "execution_count": 6,
   "metadata": {},
   "outputs": [
    {
     "name": "stdout",
     "output_type": "stream",
     "text": [
      "X_train shape:  (498,)\n",
      "X_test shape:  (214,)\n",
      "y_train shape:  (498,)\n",
      "y_test shape:  (214,)\n"
     ]
    }
   ],
   "source": [
    "X_train, X_test, y_train, y_test = train_test_split(df['cleaned_content'],\n",
    "                                                    df['author_id'], test_size=0.3, random_state=42)\n",
    "print(\"X_train shape: \",X_train.shape)\n",
    "print(\"X_test shape: \",X_test.shape)\n",
    "print(\"y_train shape: \",y_train.shape)\n",
    "print(\"y_test shape: \",y_test.shape)"
   ]
  },
  {
   "cell_type": "markdown",
   "metadata": {},
   "source": [
    "## Converting Text into features\n",
    "\n",
    "> For this we will be using TF-IDF vectorizer. "
   ]
  },
  {
   "cell_type": "code",
   "execution_count": 7,
   "metadata": {},
   "outputs": [],
   "source": [
    "X_train_vectorized = tf_idf_vectorizer.fit_transform(X_train)\n",
    "X_test_vectorized = tf_idf_vectorizer.transform(X_test)"
   ]
  },
  {
   "cell_type": "markdown",
   "metadata": {},
   "source": [
    "## Training the learning algorithm"
   ]
  },
  {
   "cell_type": "code",
   "execution_count": 8,
   "metadata": {},
   "outputs": [],
   "source": [
    "def model_score_df(model_dict):   \n",
    "    model_name, ac_score_list, p_score_list, r_score_list, f1_score_list,log_loss_list = [],[], [], [], [], []\n",
    "    for k,v in model_dict.items(): \n",
    "        model_name.append(k)\n",
    "        v.fit(X_train_vectorized,y_train)\n",
    "        predictions = v.predict(X_test_vectorized)\n",
    "        pred = v.predict_proba(X_test_vectorized)\n",
    "        ac_score_list.append(accuracy_score(y_test, predictions))\n",
    "        p_score_list.append(precision_score(y_test, predictions, average='macro'))\n",
    "        r_score_list.append(recall_score(y_test, predictions, average='macro'))\n",
    "        f1_score_list.append(f1_score(y_test, predictions, average='macro'))\n",
    "        log_loss_list.append(log_loss(y_test, pred))\n",
    "    model_comparison_df = pd.DataFrame([model_name, ac_score_list, p_score_list, r_score_list, f1_score_list,log_loss_list]).T\n",
    "    model_comparison_df.columns = ['model_name', 'accuracy_score', 'precision_score', 'recall_score', 'f1_score','log_loss']\n",
    "    model_comparison_df = model_comparison_df.sort_values(by='log_loss', ascending=False)\n",
    "        \n",
    "    return model_comparison_df"
   ]
  },
  {
   "cell_type": "markdown",
   "metadata": {},
   "source": [
    "### Evaluation"
   ]
  },
  {
   "cell_type": "code",
   "execution_count": 9,
   "metadata": {},
   "outputs": [
    {
     "name": "stderr",
     "output_type": "stream",
     "text": [
      "/home/shivani/.local/lib/python3.8/site-packages/xgboost/sklearn.py:888: UserWarning: The use of label encoder in XGBClassifier is deprecated and will be removed in a future release. To remove this warning, do the following: 1) Pass option use_label_encoder=False when constructing XGBClassifier object; and 2) Encode your labels (y) as integers starting with 0, i.e. 0, 1, 2, ..., [num_class - 1].\n",
      "  warnings.warn(label_encoder_deprecation_msg, UserWarning)\n"
     ]
    },
    {
     "name": "stdout",
     "output_type": "stream",
     "text": [
      "[13:02:24] WARNING: ../src/learner.cc:1061: Starting in XGBoost 1.3.0, the default evaluation metric used with the objective 'multi:softprob' was changed from 'merror' to 'mlogloss'. Explicitly set eval_metric if you'd like to restore the old behavior.\n"
     ]
    },
    {
     "name": "stderr",
     "output_type": "stream",
     "text": [
      "/home/shivani/.local/lib/python3.8/site-packages/sklearn/metrics/_classification.py:1221: UndefinedMetricWarning: Precision is ill-defined and being set to 0.0 in labels with no predicted samples. Use `zero_division` parameter to control this behavior.\n",
      "  _warn_prf(average, modifier, msg_start, len(result))\n",
      "/home/shivani/.local/lib/python3.8/site-packages/sklearn/metrics/_classification.py:1221: UndefinedMetricWarning: Precision is ill-defined and being set to 0.0 in labels with no predicted samples. Use `zero_division` parameter to control this behavior.\n",
      "  _warn_prf(average, modifier, msg_start, len(result))\n"
     ]
    },
    {
     "data": {
      "text/html": [
       "<div>\n",
       "<style scoped>\n",
       "    .dataframe tbody tr th:only-of-type {\n",
       "        vertical-align: middle;\n",
       "    }\n",
       "\n",
       "    .dataframe tbody tr th {\n",
       "        vertical-align: top;\n",
       "    }\n",
       "\n",
       "    .dataframe thead th {\n",
       "        text-align: right;\n",
       "    }\n",
       "</style>\n",
       "<table border=\"1\" class=\"dataframe\">\n",
       "  <thead>\n",
       "    <tr style=\"text-align: right;\">\n",
       "      <th></th>\n",
       "      <th>model_name</th>\n",
       "      <th>accuracy_score</th>\n",
       "      <th>precision_score</th>\n",
       "      <th>recall_score</th>\n",
       "      <th>f1_score</th>\n",
       "      <th>log_loss</th>\n",
       "    </tr>\n",
       "  </thead>\n",
       "  <tbody>\n",
       "    <tr>\n",
       "      <th>5</th>\n",
       "      <td>K Nearest Neighbor</td>\n",
       "      <td>0.38785</td>\n",
       "      <td>0.431872</td>\n",
       "      <td>0.342672</td>\n",
       "      <td>0.324424</td>\n",
       "      <td>6.49018</td>\n",
       "    </tr>\n",
       "    <tr>\n",
       "      <th>1</th>\n",
       "      <td>Multinomial Naive Bayes</td>\n",
       "      <td>0.46729</td>\n",
       "      <td>0.249255</td>\n",
       "      <td>0.296413</td>\n",
       "      <td>0.240214</td>\n",
       "      <td>1.53241</td>\n",
       "    </tr>\n",
       "    <tr>\n",
       "      <th>2</th>\n",
       "      <td>OneVsRest Classifier</td>\n",
       "      <td>0.546729</td>\n",
       "      <td>0.41929</td>\n",
       "      <td>0.402452</td>\n",
       "      <td>0.382315</td>\n",
       "      <td>1.22977</td>\n",
       "    </tr>\n",
       "    <tr>\n",
       "      <th>0</th>\n",
       "      <td>XGBoost Classifier</td>\n",
       "      <td>0.626168</td>\n",
       "      <td>0.58422</td>\n",
       "      <td>0.590688</td>\n",
       "      <td>0.58433</td>\n",
       "      <td>1.1889</td>\n",
       "    </tr>\n",
       "    <tr>\n",
       "      <th>4</th>\n",
       "      <td>AdaBoost</td>\n",
       "      <td>0.406542</td>\n",
       "      <td>0.593643</td>\n",
       "      <td>0.34181</td>\n",
       "      <td>0.331047</td>\n",
       "      <td>1.13784</td>\n",
       "    </tr>\n",
       "    <tr>\n",
       "      <th>6</th>\n",
       "      <td>Stochastic Gradient Descent</td>\n",
       "      <td>0.551402</td>\n",
       "      <td>0.537562</td>\n",
       "      <td>0.467176</td>\n",
       "      <td>0.472397</td>\n",
       "      <td>1.08395</td>\n",
       "    </tr>\n",
       "    <tr>\n",
       "      <th>3</th>\n",
       "      <td>Random Forest</td>\n",
       "      <td>0.546729</td>\n",
       "      <td>0.501457</td>\n",
       "      <td>0.393524</td>\n",
       "      <td>0.362865</td>\n",
       "      <td>1.0296</td>\n",
       "    </tr>\n",
       "  </tbody>\n",
       "</table>\n",
       "</div>"
      ],
      "text/plain": [
       "                    model_name accuracy_score precision_score recall_score  \\\n",
       "5           K Nearest Neighbor        0.38785        0.431872     0.342672   \n",
       "1      Multinomial Naive Bayes        0.46729        0.249255     0.296413   \n",
       "2         OneVsRest Classifier       0.546729         0.41929     0.402452   \n",
       "0           XGBoost Classifier       0.626168         0.58422     0.590688   \n",
       "4                     AdaBoost       0.406542        0.593643      0.34181   \n",
       "6  Stochastic Gradient Descent       0.551402        0.537562     0.467176   \n",
       "3                Random Forest       0.546729        0.501457     0.393524   \n",
       "\n",
       "   f1_score log_loss  \n",
       "5  0.324424  6.49018  \n",
       "1  0.240214  1.53241  \n",
       "2  0.382315  1.22977  \n",
       "0   0.58433   1.1889  \n",
       "4  0.331047  1.13784  \n",
       "6  0.472397  1.08395  \n",
       "3  0.362865   1.0296  "
      ]
     },
     "execution_count": 9,
     "metadata": {},
     "output_type": "execute_result"
    }
   ],
   "source": [
    "model_score_df(model_dict)"
   ]
  },
  {
   "cell_type": "markdown",
   "metadata": {},
   "source": [
    "> **Observation:** XGBoost classifier is giving overall better results than the rest of the classifiers. So for prediction, we will proceed with xgboost classifier."
   ]
  },
  {
   "cell_type": "markdown",
   "metadata": {},
   "source": [
    "### Creating inference function"
   ]
  },
  {
   "cell_type": "code",
   "execution_count": 10,
   "metadata": {},
   "outputs": [
    {
     "data": {
      "text/html": [
       "<div>\n",
       "<style scoped>\n",
       "    .dataframe tbody tr th:only-of-type {\n",
       "        vertical-align: middle;\n",
       "    }\n",
       "\n",
       "    .dataframe tbody tr th {\n",
       "        vertical-align: top;\n",
       "    }\n",
       "\n",
       "    .dataframe thead th {\n",
       "        text-align: right;\n",
       "    }\n",
       "</style>\n",
       "<table border=\"1\" class=\"dataframe\">\n",
       "  <thead>\n",
       "    <tr style=\"text-align: right;\">\n",
       "      <th></th>\n",
       "      <th>content</th>\n",
       "      <th>author</th>\n",
       "    </tr>\n",
       "  </thead>\n",
       "  <tbody>\n",
       "    <tr>\n",
       "      <th>0</th>\n",
       "      <td>The Shiv Sena will abstain from voting on the...</td>\n",
       "      <td>Press Trust of India</td>\n",
       "    </tr>\n",
       "    <tr>\n",
       "      <th>1</th>\n",
       "      <td>Disgruntled BJP leader Shatrughan Sinha, who h...</td>\n",
       "      <td>PTI</td>\n",
       "    </tr>\n",
       "    <tr>\n",
       "      <th>2</th>\n",
       "      <td>The Congress would emerge as the \"number one ...</td>\n",
       "      <td>PTI</td>\n",
       "    </tr>\n",
       "    <tr>\n",
       "      <th>3</th>\n",
       "      <td>Former Nationalist Congress Party leader Tariq...</td>\n",
       "      <td>Scroll Staff</td>\n",
       "    </tr>\n",
       "    <tr>\n",
       "      <th>4</th>\n",
       "      <td>Janata Dal (United) president Nitish Kumar on ...</td>\n",
       "      <td>The Quint</td>\n",
       "    </tr>\n",
       "  </tbody>\n",
       "</table>\n",
       "</div>"
      ],
      "text/plain": [
       "                                             content                author\n",
       "0   The Shiv Sena will abstain from voting on the...  Press Trust of India\n",
       "1  Disgruntled BJP leader Shatrughan Sinha, who h...                   PTI\n",
       "2   The Congress would emerge as the \"number one ...                   PTI\n",
       "3  Former Nationalist Congress Party leader Tariq...          Scroll Staff\n",
       "4  Janata Dal (United) president Nitish Kumar on ...             The Quint"
      ]
     },
     "execution_count": 10,
     "metadata": {},
     "output_type": "execute_result"
    }
   ],
   "source": [
    "unseen_data = pd.read_csv('../data/content_author_assignment_test.csv')\n",
    "unseen_data_raw = unseen_data.copy()\n",
    "unseen_data.head()"
   ]
  },
  {
   "cell_type": "markdown",
   "metadata": {},
   "source": [
    "### Preparing unseen data for inferencing"
   ]
  },
  {
   "cell_type": "code",
   "execution_count": 11,
   "metadata": {},
   "outputs": [
    {
     "name": "stdout",
     "output_type": "stream",
     "text": [
      "<class 'pandas.core.frame.DataFrame'>\n",
      "RangeIndex: 855 entries, 0 to 854\n",
      "Data columns (total 3 columns):\n",
      " #   Column           Non-Null Count  Dtype \n",
      "---  ------           --------------  ----- \n",
      " 0   content          855 non-null    object\n",
      " 1   author           855 non-null    object\n",
      " 2   cleaned_content  855 non-null    object\n",
      "dtypes: object(3)\n",
      "memory usage: 20.2+ KB\n",
      "None\n",
      " Shape of dataframe passed: (855, 3)\n"
     ]
    }
   ],
   "source": [
    "unseen_data['cleaned_content'] = unseen_data.content.apply(lambda x: features.clean_text(x))\n",
    "unseen_data['cleaned_content'] = unseen_data.content.apply(lambda x: features.remove_stopwords(x))\n",
    "print(unseen_data.info())\n",
    "print(\" Shape of dataframe passed:\" ,unseen_data.shape)"
   ]
  },
  {
   "cell_type": "markdown",
   "metadata": {},
   "source": [
    "### Inferencing function"
   ]
  },
  {
   "cell_type": "code",
   "execution_count": 14,
   "metadata": {},
   "outputs": [],
   "source": [
    "def make_inference(content):\n",
    "    query_vector = tf_idf_vectorizer.transform([content])\n",
    "    predicted_author = xgBoost.predict(query_vector)\n",
    "    author= list(author_map.keys())[list(author_map.values()).index(predicted_author)] \n",
    "    return author"
   ]
  },
  {
   "cell_type": "code",
   "execution_count": 15,
   "metadata": {},
   "outputs": [
    {
     "name": "stdout",
     "output_type": "stream",
     "text": [
      "Actual value:  PTI\n",
      "Predicted Value: PTI\n"
     ]
    }
   ],
   "source": [
    "author_pred = make_inference(unseen_data['cleaned_content'][2])\n",
    "print(\"Actual value: \",unseen_data_raw['author'][2])\n",
    "print(\"Predicted Value:\", author_pred)"
   ]
  },
  {
   "cell_type": "code",
   "execution_count": 16,
   "metadata": {},
   "outputs": [],
   "source": [
    "predicted_author = []\n",
    "for content in unseen_data['cleaned_content']:\n",
    "    pred = make_inference(content)\n",
    "    predicted_author.append(pred) "
   ]
  },
  {
   "cell_type": "code",
   "execution_count": 17,
   "metadata": {},
   "outputs": [],
   "source": [
    "author_predictions = pd.DataFrame({'Content text':unseen_data['content'],'Author':unseen_data['author'],'Predicted Author':predicted_author})"
   ]
  },
  {
   "cell_type": "code",
   "execution_count": 18,
   "metadata": {},
   "outputs": [
    {
     "data": {
      "text/html": [
       "<div>\n",
       "<style scoped>\n",
       "    .dataframe tbody tr th:only-of-type {\n",
       "        vertical-align: middle;\n",
       "    }\n",
       "\n",
       "    .dataframe tbody tr th {\n",
       "        vertical-align: top;\n",
       "    }\n",
       "\n",
       "    .dataframe thead th {\n",
       "        text-align: right;\n",
       "    }\n",
       "</style>\n",
       "<table border=\"1\" class=\"dataframe\">\n",
       "  <thead>\n",
       "    <tr style=\"text-align: right;\">\n",
       "      <th></th>\n",
       "      <th>Content text</th>\n",
       "      <th>Author</th>\n",
       "      <th>Predicted Author</th>\n",
       "    </tr>\n",
       "  </thead>\n",
       "  <tbody>\n",
       "    <tr>\n",
       "      <th>0</th>\n",
       "      <td>The Shiv Sena will abstain from voting on the...</td>\n",
       "      <td>Press Trust of India</td>\n",
       "      <td>PTI</td>\n",
       "    </tr>\n",
       "    <tr>\n",
       "      <th>1</th>\n",
       "      <td>Disgruntled BJP leader Shatrughan Sinha, who h...</td>\n",
       "      <td>PTI</td>\n",
       "      <td>The Quint</td>\n",
       "    </tr>\n",
       "    <tr>\n",
       "      <th>2</th>\n",
       "      <td>The Congress would emerge as the \"number one ...</td>\n",
       "      <td>PTI</td>\n",
       "      <td>PTI</td>\n",
       "    </tr>\n",
       "    <tr>\n",
       "      <th>3</th>\n",
       "      <td>Former Nationalist Congress Party leader Tariq...</td>\n",
       "      <td>Scroll Staff</td>\n",
       "      <td>Scroll Staff</td>\n",
       "    </tr>\n",
       "    <tr>\n",
       "      <th>4</th>\n",
       "      <td>Janata Dal (United) president Nitish Kumar on ...</td>\n",
       "      <td>The Quint</td>\n",
       "      <td>The Quint</td>\n",
       "    </tr>\n",
       "    <tr>\n",
       "      <th>5</th>\n",
       "      <td>The Madras High Court on Tuesday directed that...</td>\n",
       "      <td>The Quint</td>\n",
       "      <td>The Quint</td>\n",
       "    </tr>\n",
       "    <tr>\n",
       "      <th>6</th>\n",
       "      <td>The Aam Aadmi Party announced on Tuesday its ...</td>\n",
       "      <td>PTI</td>\n",
       "      <td>PTI</td>\n",
       "    </tr>\n",
       "    <tr>\n",
       "      <th>7</th>\n",
       "      <td>Suspended Congress leader Mani Shankar Aiyar s...</td>\n",
       "      <td>The Quint</td>\n",
       "      <td>The Quint</td>\n",
       "    </tr>\n",
       "    <tr>\n",
       "      <th>8</th>\n",
       "      <td>After his \"Internet in the Mahabharata era\" re...</td>\n",
       "      <td>PTI</td>\n",
       "      <td>The Quint</td>\n",
       "    </tr>\n",
       "    <tr>\n",
       "      <th>9</th>\n",
       "      <td>“Marriage does not mean that the woman is all ...</td>\n",
       "      <td>The Quint</td>\n",
       "      <td>The Quint</td>\n",
       "    </tr>\n",
       "  </tbody>\n",
       "</table>\n",
       "</div>"
      ],
      "text/plain": [
       "                                        Content text                Author  \\\n",
       "0   The Shiv Sena will abstain from voting on the...  Press Trust of India   \n",
       "1  Disgruntled BJP leader Shatrughan Sinha, who h...                   PTI   \n",
       "2   The Congress would emerge as the \"number one ...                   PTI   \n",
       "3  Former Nationalist Congress Party leader Tariq...          Scroll Staff   \n",
       "4  Janata Dal (United) president Nitish Kumar on ...             The Quint   \n",
       "5  The Madras High Court on Tuesday directed that...             The Quint   \n",
       "6   The Aam Aadmi Party announced on Tuesday its ...                   PTI   \n",
       "7  Suspended Congress leader Mani Shankar Aiyar s...             The Quint   \n",
       "8  After his \"Internet in the Mahabharata era\" re...                   PTI   \n",
       "9  “Marriage does not mean that the woman is all ...             The Quint   \n",
       "\n",
       "  Predicted Author  \n",
       "0              PTI  \n",
       "1        The Quint  \n",
       "2              PTI  \n",
       "3     Scroll Staff  \n",
       "4        The Quint  \n",
       "5        The Quint  \n",
       "6              PTI  \n",
       "7        The Quint  \n",
       "8        The Quint  \n",
       "9        The Quint  "
      ]
     },
     "execution_count": 18,
     "metadata": {},
     "output_type": "execute_result"
    }
   ],
   "source": [
    "author_predictions.head(10)"
   ]
  },
  {
   "cell_type": "code",
   "execution_count": null,
   "metadata": {},
   "outputs": [],
   "source": [
    "# saving prediction dataframe to csv\n",
    "author_predictions.to_csv('../data/author_predictions.csv',index=False)"
   ]
  },
  {
   "cell_type": "code",
   "execution_count": null,
   "metadata": {},
   "outputs": [],
   "source": []
  }
 ],
 "metadata": {
  "kernelspec": {
   "display_name": "Python 3",
   "language": "python",
   "name": "python3"
  },
  "language_info": {
   "codemirror_mode": {
    "name": "ipython",
    "version": 3
   },
   "file_extension": ".py",
   "mimetype": "text/x-python",
   "name": "python",
   "nbconvert_exporter": "python",
   "pygments_lexer": "ipython3",
   "version": "3.8.5"
  }
 },
 "nbformat": 4,
 "nbformat_minor": 4
}
