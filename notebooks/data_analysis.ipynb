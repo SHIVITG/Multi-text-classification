{
 "cells": [
  {
   "cell_type": "markdown",
   "metadata": {},
   "source": [
    "\n",
    "## Author Prediction : Data Analysis\n",
    "\n",
    "> Assignment from **Uniqreate**"
   ]
  },
  {
   "cell_type": "markdown",
   "metadata": {},
   "source": [
    "---\n",
    "\n",
    "### Neccessary imports"
   ]
  },
  {
   "cell_type": "code",
   "execution_count": 1,
   "metadata": {},
   "outputs": [
    {
     "name": "stderr",
     "output_type": "stream",
     "text": [
      "[nltk_data] Downloading package stopwords to\n",
      "[nltk_data]     /home/shivani/nltk_data...\n",
      "[nltk_data]   Package stopwords is already up-to-date!\n"
     ]
    }
   ],
   "source": [
    "import sys\n",
    "import re\n",
    "import os\n",
    "import nltk\n",
    "import warnings\n",
    "import numpy as np\n",
    "import pandas as pd\n",
    "import seaborn as sns\n",
    "import matplotlib.pyplot as plt\n",
    "from wordcloud import WordCloud\n",
    "from nltk.corpus import stopwords\n",
    "from nltk.tokenize import word_tokenize\n",
    "\n",
    "sys.path.append(\"../\")\n",
    "# other local imports\n",
    "from utlis.nlp_utlis import *\n",
    "from utlis.text_analysis import FeatureEng\n",
    "\n",
    "warnings.filterwarnings('ignore')\n",
    "sns.set_context('paper')\n",
    "nltk.download('stopwords')\n",
    "features = FeatureEng"
   ]
  },
  {
   "cell_type": "markdown",
   "metadata": {},
   "source": [
    "---\n",
    "\n",
    "# Assignment Overview"
   ]
  },
  {
   "cell_type": "markdown",
   "metadata": {},
   "source": [
    "**Problem Statement** -Given the content, your task is to predict the author.\n",
    "\n",
    "---\n",
    "**About Dataset**\n",
    "File 1 - content_author_assignment_train.csv\n",
    "File 2 - content_author_assignment_test.csv\n",
    "\n",
    "The train file for any analysis and training\n",
    "The test file can solely be used for prediction.\n",
    "\n",
    "Columns - content, author\n",
    "\n",
    "**Evaluation criteria** -cross entropy loss\n"
   ]
  },
  {
   "cell_type": "markdown",
   "metadata": {},
   "source": [
    "## Exploratory Data Analysis\n",
    "---"
   ]
  },
  {
   "cell_type": "markdown",
   "metadata": {},
   "source": [
    "> Reading data from csv files given"
   ]
  },
  {
   "cell_type": "code",
   "execution_count": 2,
   "metadata": {},
   "outputs": [
    {
     "name": "stdout",
     "output_type": "stream",
     "text": [
      "Shape of train data=> (712, 2)\n"
     ]
    },
    {
     "data": {
      "text/html": [
       "<div>\n",
       "<style scoped>\n",
       "    .dataframe tbody tr th:only-of-type {\n",
       "        vertical-align: middle;\n",
       "    }\n",
       "\n",
       "    .dataframe tbody tr th {\n",
       "        vertical-align: top;\n",
       "    }\n",
       "\n",
       "    .dataframe thead th {\n",
       "        text-align: right;\n",
       "    }\n",
       "</style>\n",
       "<table border=\"1\" class=\"dataframe\">\n",
       "  <thead>\n",
       "    <tr style=\"text-align: right;\">\n",
       "      <th></th>\n",
       "      <th>content</th>\n",
       "      <th>author</th>\n",
       "    </tr>\n",
       "  </thead>\n",
       "  <tbody>\n",
       "    <tr>\n",
       "      <th>0</th>\n",
       "      <td>Fourth time this season, heavy rains paralysed...</td>\n",
       "      <td>The Quint</td>\n",
       "    </tr>\n",
       "    <tr>\n",
       "      <th>1</th>\n",
       "      <td>The BJP has made a significant gain of 11 addi...</td>\n",
       "      <td>PTI</td>\n",
       "    </tr>\n",
       "    <tr>\n",
       "      <th>2</th>\n",
       "      <td>Rajya Sabha saw two disruptions on Thursday al...</td>\n",
       "      <td>FP Staff</td>\n",
       "    </tr>\n",
       "    <tr>\n",
       "      <th>3</th>\n",
       "      <td>Senior IPS officer Subodh Jaiswal, who had bee...</td>\n",
       "      <td>The Quint</td>\n",
       "    </tr>\n",
       "    <tr>\n",
       "      <th>4</th>\n",
       "      <td>The government, on 27 February, announced a si...</td>\n",
       "      <td>PTI</td>\n",
       "    </tr>\n",
       "  </tbody>\n",
       "</table>\n",
       "</div>"
      ],
      "text/plain": [
       "                                             content     author\n",
       "0  Fourth time this season, heavy rains paralysed...  The Quint\n",
       "1  The BJP has made a significant gain of 11 addi...        PTI\n",
       "2  Rajya Sabha saw two disruptions on Thursday al...   FP Staff\n",
       "3  Senior IPS officer Subodh Jaiswal, who had bee...  The Quint\n",
       "4  The government, on 27 February, announced a si...        PTI"
      ]
     },
     "execution_count": 2,
     "metadata": {},
     "output_type": "execute_result"
    }
   ],
   "source": [
    "df_train = pd.read_csv(\"../data/content_author_assignment_train.csv\")\n",
    "print(\"Shape of train data=>\",df_train.shape)\n",
    "df_train.head()"
   ]
  },
  {
   "cell_type": "code",
   "execution_count": 3,
   "metadata": {},
   "outputs": [
    {
     "name": "stdout",
     "output_type": "stream",
     "text": [
      "<class 'pandas.core.frame.DataFrame'>\n",
      "RangeIndex: 712 entries, 0 to 711\n",
      "Data columns (total 2 columns):\n",
      " #   Column   Non-Null Count  Dtype \n",
      "---  ------   --------------  ----- \n",
      " 0   content  712 non-null    object\n",
      " 1   author   712 non-null    object\n",
      "dtypes: object(2)\n",
      "memory usage: 11.2+ KB\n"
     ]
    }
   ],
   "source": [
    "df_train.info()"
   ]
  },
  {
   "cell_type": "code",
   "execution_count": 4,
   "metadata": {},
   "outputs": [
    {
     "data": {
      "text/plain": [
       "['The Quint', 'PTI', 'FP Staff', 'Press Trust of India', 'Scroll Staff']"
      ]
     },
     "execution_count": 4,
     "metadata": {},
     "output_type": "execute_result"
    }
   ],
   "source": [
    "list_of_authors = list(df_train.author.unique())\n",
    "list_of_authors"
   ]
  },
  {
   "cell_type": "code",
   "execution_count": 5,
   "metadata": {},
   "outputs": [
    {
     "data": {
      "text/plain": [
       "content    0\n",
       "author     0\n",
       "dtype: int64"
      ]
     },
     "execution_count": 5,
     "metadata": {},
     "output_type": "execute_result"
    }
   ],
   "source": [
    "df_train.isna().sum()"
   ]
  },
  {
   "cell_type": "markdown",
   "metadata": {},
   "source": [
    "> We do not have any NA values in the data."
   ]
  },
  {
   "cell_type": "code",
   "execution_count": 6,
   "metadata": {},
   "outputs": [
    {
     "data": {
      "text/plain": [
       "content    0\n",
       "author     0\n",
       "dtype: int64"
      ]
     },
     "execution_count": 6,
     "metadata": {},
     "output_type": "execute_result"
    }
   ],
   "source": [
    "df_train.isnull().sum()"
   ]
  },
  {
   "cell_type": "markdown",
   "metadata": {},
   "source": [
    "> Neither we have any Null values in the data."
   ]
  },
  {
   "cell_type": "markdown",
   "metadata": {},
   "source": [
    "### Checking the distribution frequency of author's content"
   ]
  },
  {
   "cell_type": "code",
   "execution_count": 7,
   "metadata": {},
   "outputs": [
    {
     "data": {
      "text/plain": [
       "<AxesSubplot:xlabel='author', ylabel='count'>"
      ]
     },
     "execution_count": 7,
     "metadata": {},
     "output_type": "execute_result"
    },
    {
     "data": {
      "image/png": "[encoded data removed]",
      "text/plain": [
       "<Figure size 1080x504 with 1 Axes>"
      ]
     },
     "metadata": {
      "needs_background": "light"
     },
     "output_type": "display_data"
    }
   ],
   "source": [
    "plt.figure(figsize=(15,7)) \n",
    "sns.countplot(df_train.author)"
   ]
  },
  {
   "cell_type": "markdown",
   "metadata": {},
   "source": [
    ">Observation: Dominant classes are \"The Quint\" and \"PTI\""
   ]
  },
  {
   "cell_type": "code",
   "execution_count": 8,
   "metadata": {},
   "outputs": [
    {
     "data": {
      "text/html": [
       "<div>\n",
       "<style scoped>\n",
       "    .dataframe tbody tr th:only-of-type {\n",
       "        vertical-align: middle;\n",
       "    }\n",
       "\n",
       "    .dataframe tbody tr th {\n",
       "        vertical-align: top;\n",
       "    }\n",
       "\n",
       "    .dataframe thead th {\n",
       "        text-align: right;\n",
       "    }\n",
       "</style>\n",
       "<table border=\"1\" class=\"dataframe\">\n",
       "  <thead>\n",
       "    <tr style=\"text-align: right;\">\n",
       "      <th></th>\n",
       "      <th>author</th>\n",
       "      <th>word_count</th>\n",
       "    </tr>\n",
       "  </thead>\n",
       "  <tbody>\n",
       "    <tr>\n",
       "      <th>0</th>\n",
       "      <td>FP Staff</td>\n",
       "      <td>560.893805</td>\n",
       "    </tr>\n",
       "    <tr>\n",
       "      <th>1</th>\n",
       "      <td>PTI</td>\n",
       "      <td>365.333333</td>\n",
       "    </tr>\n",
       "    <tr>\n",
       "      <th>2</th>\n",
       "      <td>Press Trust of India</td>\n",
       "      <td>413.735849</td>\n",
       "    </tr>\n",
       "    <tr>\n",
       "      <th>3</th>\n",
       "      <td>Scroll Staff</td>\n",
       "      <td>391.358209</td>\n",
       "    </tr>\n",
       "    <tr>\n",
       "      <th>4</th>\n",
       "      <td>The Quint</td>\n",
       "      <td>487.950820</td>\n",
       "    </tr>\n",
       "  </tbody>\n",
       "</table>\n",
       "</div>"
      ],
      "text/plain": [
       "                 author  word_count\n",
       "0              FP Staff  560.893805\n",
       "1                   PTI  365.333333\n",
       "2  Press Trust of India  413.735849\n",
       "3          Scroll Staff  391.358209\n",
       "4             The Quint  487.950820"
      ]
     },
     "execution_count": 8,
     "metadata": {},
     "output_type": "execute_result"
    }
   ],
   "source": [
    "#Getting Avg word count by category\n",
    "df_train['word_count'] = df_train['content'].apply(word_count)\n",
    "avg_wc = df_train.groupby('author').mean().reset_index()\n",
    "avg_wc[['author','word_count']]"
   ]
  },
  {
   "cell_type": "code",
   "execution_count": 9,
   "metadata": {},
   "outputs": [
    {
     "data": {
      "text/plain": [
       "<AxesSubplot:xlabel='author', ylabel='word_count'>"
      ]
     },
     "execution_count": 9,
     "metadata": {},
     "output_type": "execute_result"
    },
    {
     "data": {
      "image/png": "[encoded data removed]",
      "text/plain": [
       "<Figure size 1080x504 with 1 Axes>"
      ]
     },
     "metadata": {
      "needs_background": "light"
     },
     "output_type": "display_data"
    }
   ],
   "source": [
    "plt.figure(figsize=(15,7)) \n",
    "sns.barplot(x='author', y='word_count', data=avg_wc,palette=\"Paired\")"
   ]
  },
  {
   "cell_type": "markdown",
   "metadata": {},
   "source": [
    ">Observation: \"FP Staff\" have more text richness wrt word_count of the content compared to other authors"
   ]
  },
  {
   "cell_type": "markdown",
   "metadata": {},
   "source": [
    "## Cleaning and Text Preprocessing"
   ]
  },
  {
   "cell_type": "code",
   "execution_count": 10,
   "metadata": {},
   "outputs": [],
   "source": [
    "df_train['clean_content'] = df_train.content.apply(lambda x: features.clean_text(x))"
   ]
  },
  {
   "cell_type": "code",
   "execution_count": 11,
   "metadata": {},
   "outputs": [
    {
     "name": "stdout",
     "output_type": "stream",
     "text": [
      "-------------Before Cleaning-----------------\n",
      "{'Total Characters': 4916, 'Special Characters': 971, 'Numbers': 46, 'Letters': 3899, 'Others': 971}\n",
      "-------------After Cleaning-----------------\n",
      "{'Total Characters': 4698, 'Special Characters': 799, 'Numbers': 0, 'Letters': 3899, 'Others': 799}\n"
     ]
    }
   ],
   "source": [
    "print(\"-------------Before Cleaning-----------------\")\n",
    "y = df_train.content[0]\n",
    "temp_dict = {}\n",
    "special_chars = re.sub('[\\w]+' ,'',y)\n",
    "numbers = sum(char.isdigit() for char in y)\n",
    "letters = sum(char.isalpha() for char in y)\n",
    "others  = len(y) - numbers - letters\n",
    "temp_dict['Total Characters'] = len(y)\n",
    "temp_dict['Special Characters'] = len(special_chars)\n",
    "temp_dict['Numbers'] = numbers\n",
    "temp_dict['Letters'] = letters\n",
    "temp_dict['Others'] = others\n",
    "print(temp_dict)       \n",
    "print(\"-------------After Cleaning-----------------\")\n",
    "y = df_train.clean_content[0]\n",
    "temp_dict = {}\n",
    "special_chars = re.sub('[\\w]+' ,'',y)\n",
    "numbers = sum(char.isdigit() for char in y)\n",
    "letters = sum(char.isalpha() for char in y)\n",
    "others  = len(y) - numbers - letters\n",
    "temp_dict['Total Characters'] = len(y)\n",
    "temp_dict['Special Characters'] = len(special_chars)\n",
    "temp_dict['Numbers'] = numbers\n",
    "temp_dict['Letters'] = letters\n",
    "temp_dict['Others'] = others\n",
    "print(temp_dict)        "
   ]
  },
  {
   "cell_type": "markdown",
   "metadata": {},
   "source": [
    "**Quick look at the data again**"
   ]
  },
  {
   "cell_type": "code",
   "execution_count": 12,
   "metadata": {},
   "outputs": [
    {
     "data": {
      "text/html": [
       "<div>\n",
       "<style scoped>\n",
       "    .dataframe tbody tr th:only-of-type {\n",
       "        vertical-align: middle;\n",
       "    }\n",
       "\n",
       "    .dataframe tbody tr th {\n",
       "        vertical-align: top;\n",
       "    }\n",
       "\n",
       "    .dataframe thead th {\n",
       "        text-align: right;\n",
       "    }\n",
       "</style>\n",
       "<table border=\"1\" class=\"dataframe\">\n",
       "  <thead>\n",
       "    <tr style=\"text-align: right;\">\n",
       "      <th></th>\n",
       "      <th>content</th>\n",
       "      <th>author</th>\n",
       "      <th>word_count</th>\n",
       "      <th>clean_content</th>\n",
       "    </tr>\n",
       "  </thead>\n",
       "  <tbody>\n",
       "    <tr>\n",
       "      <th>0</th>\n",
       "      <td>Fourth time this season, heavy rains paralysed...</td>\n",
       "      <td>The Quint</td>\n",
       "      <td>818</td>\n",
       "      <td>fourth time this season heavy rains paralysed ...</td>\n",
       "    </tr>\n",
       "    <tr>\n",
       "      <th>1</th>\n",
       "      <td>The BJP has made a significant gain of 11 addi...</td>\n",
       "      <td>PTI</td>\n",
       "      <td>274</td>\n",
       "      <td>the bjp has made a significant gain of additio...</td>\n",
       "    </tr>\n",
       "    <tr>\n",
       "      <th>2</th>\n",
       "      <td>Rajya Sabha saw two disruptions on Thursday al...</td>\n",
       "      <td>FP Staff</td>\n",
       "      <td>846</td>\n",
       "      <td>rajya sabha saw two disruptions on thursday al...</td>\n",
       "    </tr>\n",
       "    <tr>\n",
       "      <th>3</th>\n",
       "      <td>Senior IPS officer Subodh Jaiswal, who had bee...</td>\n",
       "      <td>The Quint</td>\n",
       "      <td>890</td>\n",
       "      <td>senior ips officer subodh jaiswal who had been...</td>\n",
       "    </tr>\n",
       "    <tr>\n",
       "      <th>4</th>\n",
       "      <td>The government, on 27 February, announced a si...</td>\n",
       "      <td>PTI</td>\n",
       "      <td>207</td>\n",
       "      <td>the government on february announced a signifi...</td>\n",
       "    </tr>\n",
       "  </tbody>\n",
       "</table>\n",
       "</div>"
      ],
      "text/plain": [
       "                                             content     author  word_count  \\\n",
       "0  Fourth time this season, heavy rains paralysed...  The Quint         818   \n",
       "1  The BJP has made a significant gain of 11 addi...        PTI         274   \n",
       "2  Rajya Sabha saw two disruptions on Thursday al...   FP Staff         846   \n",
       "3  Senior IPS officer Subodh Jaiswal, who had bee...  The Quint         890   \n",
       "4  The government, on 27 February, announced a si...        PTI         207   \n",
       "\n",
       "                                       clean_content  \n",
       "0  fourth time this season heavy rains paralysed ...  \n",
       "1  the bjp has made a significant gain of additio...  \n",
       "2  rajya sabha saw two disruptions on thursday al...  \n",
       "3  senior ips officer subodh jaiswal who had been...  \n",
       "4  the government on february announced a signifi...  "
      ]
     },
     "execution_count": 12,
     "metadata": {},
     "output_type": "execute_result"
    }
   ],
   "source": [
    "df_train.head()"
   ]
  },
  {
   "cell_type": "markdown",
   "metadata": {},
   "source": [
    "### Visualization of most frequent words in content"
   ]
  },
  {
   "cell_type": "code",
   "execution_count": 13,
   "metadata": {},
   "outputs": [
    {
     "data": {
      "image/png": "[encoded data removed]",
      "text/plain": [
       "<Figure size 864x1080 with 1 Axes>"
      ]
     },
     "metadata": {
      "needs_background": "light"
     },
     "output_type": "display_data"
    }
   ],
   "source": [
    "# print 20 most frequent words \n",
    "features.freq_words(df_train.clean_content, 20)"
   ]
  },
  {
   "cell_type": "markdown",
   "metadata": {},
   "source": [
    "> As expected, the word ``` the ``` is the most frequent word in the content. Supports the hypothesis of English language."
   ]
  },
  {
   "cell_type": "markdown",
   "metadata": {},
   "source": [
    "### Removing stopwords and performing stemming\n",
    "\n",
    "> Since stop words don't really add any meaning to a sentence. For this task we will be removing them."
   ]
  },
  {
   "cell_type": "code",
   "execution_count": 14,
   "metadata": {},
   "outputs": [],
   "source": [
    "df_train['clean_content'] = df_train['clean_content'].apply(lambda x: features.remove_stopwords(x))"
   ]
  },
  {
   "cell_type": "code",
   "execution_count": 15,
   "metadata": {},
   "outputs": [
    {
     "data": {
      "text/html": [
       "<div>\n",
       "<style scoped>\n",
       "    .dataframe tbody tr th:only-of-type {\n",
       "        vertical-align: middle;\n",
       "    }\n",
       "\n",
       "    .dataframe tbody tr th {\n",
       "        vertical-align: top;\n",
       "    }\n",
       "\n",
       "    .dataframe thead th {\n",
       "        text-align: right;\n",
       "    }\n",
       "</style>\n",
       "<table border=\"1\" class=\"dataframe\">\n",
       "  <thead>\n",
       "    <tr style=\"text-align: right;\">\n",
       "      <th></th>\n",
       "      <th>content</th>\n",
       "      <th>author</th>\n",
       "      <th>word_count</th>\n",
       "      <th>clean_content</th>\n",
       "    </tr>\n",
       "  </thead>\n",
       "  <tbody>\n",
       "    <tr>\n",
       "      <th>0</th>\n",
       "      <td>Fourth time this season, heavy rains paralysed...</td>\n",
       "      <td>The Quint</td>\n",
       "      <td>818</td>\n",
       "      <td>fourth time season heavy rains paralysed city ...</td>\n",
       "    </tr>\n",
       "    <tr>\n",
       "      <th>1</th>\n",
       "      <td>The BJP has made a significant gain of 11 addi...</td>\n",
       "      <td>PTI</td>\n",
       "      <td>274</td>\n",
       "      <td>bjp made significant gain additional seats con...</td>\n",
       "    </tr>\n",
       "    <tr>\n",
       "      <th>2</th>\n",
       "      <td>Rajya Sabha saw two disruptions on Thursday al...</td>\n",
       "      <td>FP Staff</td>\n",
       "      <td>846</td>\n",
       "      <td>rajya sabha saw two disruptions thursday alrea...</td>\n",
       "    </tr>\n",
       "    <tr>\n",
       "      <th>3</th>\n",
       "      <td>Senior IPS officer Subodh Jaiswal, who had bee...</td>\n",
       "      <td>The Quint</td>\n",
       "      <td>890</td>\n",
       "      <td>senior ips officer subodh jaiswal working coun...</td>\n",
       "    </tr>\n",
       "    <tr>\n",
       "      <th>4</th>\n",
       "      <td>The government, on 27 February, announced a si...</td>\n",
       "      <td>PTI</td>\n",
       "      <td>207</td>\n",
       "      <td>government february announced significant redu...</td>\n",
       "    </tr>\n",
       "  </tbody>\n",
       "</table>\n",
       "</div>"
      ],
      "text/plain": [
       "                                             content     author  word_count  \\\n",
       "0  Fourth time this season, heavy rains paralysed...  The Quint         818   \n",
       "1  The BJP has made a significant gain of 11 addi...        PTI         274   \n",
       "2  Rajya Sabha saw two disruptions on Thursday al...   FP Staff         846   \n",
       "3  Senior IPS officer Subodh Jaiswal, who had bee...  The Quint         890   \n",
       "4  The government, on 27 February, announced a si...        PTI         207   \n",
       "\n",
       "                                       clean_content  \n",
       "0  fourth time season heavy rains paralysed city ...  \n",
       "1  bjp made significant gain additional seats con...  \n",
       "2  rajya sabha saw two disruptions thursday alrea...  \n",
       "3  senior ips officer subodh jaiswal working coun...  \n",
       "4  government february announced significant redu...  "
      ]
     },
     "execution_count": 15,
     "metadata": {},
     "output_type": "execute_result"
    }
   ],
   "source": [
    "df_train.head()"
   ]
  },
  {
   "cell_type": "code",
   "execution_count": 16,
   "metadata": {},
   "outputs": [],
   "source": [
    "df_train['clean_content'] = df_train['clean_content'].apply(lambda x: features.stem_corpus(x))"
   ]
  },
  {
   "cell_type": "markdown",
   "metadata": {},
   "source": [
    "### Visualizing frequency of words after common words(stop words) are removed."
   ]
  },
  {
   "cell_type": "code",
   "execution_count": 17,
   "metadata": {},
   "outputs": [
    {
     "data": {
      "image/png": "[encoded data removed]",
      "text/plain": [
       "<Figure size 864x1080 with 1 Axes>"
      ]
     },
     "metadata": {
      "needs_background": "light"
     },
     "output_type": "display_data"
    }
   ],
   "source": [
    "features.freq_words(df_train['clean_content'], 20)"
   ]
  },
  {
   "cell_type": "markdown",
   "metadata": {},
   "source": [
    "> As we can see, now the most frequent words are not the most common words of English language. Hence now we can get more knowledge out of the text content."
   ]
  },
  {
   "cell_type": "markdown",
   "metadata": {},
   "source": [
    "### Observing coorelated terms\n",
    "\n",
    "> using unigrams and bigrams"
   ]
  },
  {
   "cell_type": "code",
   "execution_count": 18,
   "metadata": {},
   "outputs": [
    {
     "data": {
      "text/html": [
       "<div>\n",
       "<style scoped>\n",
       "    .dataframe tbody tr th:only-of-type {\n",
       "        vertical-align: middle;\n",
       "    }\n",
       "\n",
       "    .dataframe tbody tr th {\n",
       "        vertical-align: top;\n",
       "    }\n",
       "\n",
       "    .dataframe thead th {\n",
       "        text-align: right;\n",
       "    }\n",
       "</style>\n",
       "<table border=\"1\" class=\"dataframe\">\n",
       "  <thead>\n",
       "    <tr style=\"text-align: right;\">\n",
       "      <th></th>\n",
       "      <th>content</th>\n",
       "      <th>author</th>\n",
       "      <th>word_count</th>\n",
       "      <th>clean_content</th>\n",
       "    </tr>\n",
       "  </thead>\n",
       "  <tbody>\n",
       "    <tr>\n",
       "      <th>0</th>\n",
       "      <td>Fourth time this season, heavy rains paralysed...</td>\n",
       "      <td>The Quint</td>\n",
       "      <td>818</td>\n",
       "      <td>[fourth, time, season, , heavy, rain, paralyse...</td>\n",
       "    </tr>\n",
       "    <tr>\n",
       "      <th>1</th>\n",
       "      <td>The BJP has made a significant gain of 11 addi...</td>\n",
       "      <td>PTI</td>\n",
       "      <td>274</td>\n",
       "      <td>[bjp, make, significant, gain, 11, additional,...</td>\n",
       "    </tr>\n",
       "    <tr>\n",
       "      <th>2</th>\n",
       "      <td>Rajya Sabha saw two disruptions on Thursday al...</td>\n",
       "      <td>FP Staff</td>\n",
       "      <td>846</td>\n",
       "      <td>[rajya, sabha, saw, two, disruption, thursday,...</td>\n",
       "    </tr>\n",
       "    <tr>\n",
       "      <th>3</th>\n",
       "      <td>Senior IPS officer Subodh Jaiswal, who had bee...</td>\n",
       "      <td>The Quint</td>\n",
       "      <td>890</td>\n",
       "      <td>[senior, ip, officer, subodh, jaiswal, , work,...</td>\n",
       "    </tr>\n",
       "    <tr>\n",
       "      <th>4</th>\n",
       "      <td>The government, on 27 February, announced a si...</td>\n",
       "      <td>PTI</td>\n",
       "      <td>207</td>\n",
       "      <td>[government, , 27, february, , announce, signi...</td>\n",
       "    </tr>\n",
       "  </tbody>\n",
       "</table>\n",
       "</div>"
      ],
      "text/plain": [
       "                                             content     author  word_count  \\\n",
       "0  Fourth time this season, heavy rains paralysed...  The Quint         818   \n",
       "1  The BJP has made a significant gain of 11 addi...        PTI         274   \n",
       "2  Rajya Sabha saw two disruptions on Thursday al...   FP Staff         846   \n",
       "3  Senior IPS officer Subodh Jaiswal, who had bee...  The Quint         890   \n",
       "4  The government, on 27 February, announced a si...        PTI         207   \n",
       "\n",
       "                                       clean_content  \n",
       "0  [fourth, time, season, , heavy, rain, paralyse...  \n",
       "1  [bjp, make, significant, gain, 11, additional,...  \n",
       "2  [rajya, sabha, saw, two, disruption, thursday,...  \n",
       "3  [senior, ip, officer, subodh, jaiswal, , work,...  \n",
       "4  [government, , 27, february, , announce, signi...  "
      ]
     },
     "execution_count": 18,
     "metadata": {},
     "output_type": "execute_result"
    }
   ],
   "source": [
    "#Applying the function to preprocess the text.  (cleaned_content as list of tokens)\n",
    "'''Tokenize, lower, expand contactions, lemmatize, remove punctuation, numbers and stop words'''\n",
    "df_train['clean_content'] = df_train['content'].apply(process_text)\n",
    "df_train.head()"
   ]
  },
  {
   "cell_type": "code",
   "execution_count": 19,
   "metadata": {},
   "outputs": [],
   "source": [
    "#Preparing the dataframes\n",
    "#Splitting the df into the different categories\n",
    "df_fps = df_train.loc[df_train['author'] == 'FP Staff'] \n",
    "df_pti = df_train.loc[df_train['author'] =='PTI']\n",
    "df_pressti = df_train.loc[df_train['author'] == 'Press Trust of India'] \n",
    "df_ss = df_train.loc[df_train['author']== 'Scroll Staff']\n",
    "df_tq = df_train.loc[df_train['author'] =='The Quint']"
   ]
  },
  {
   "cell_type": "code",
   "execution_count": 20,
   "metadata": {},
   "outputs": [
    {
     "data": {
      "text/html": [
       "<div>\n",
       "<style scoped>\n",
       "    .dataframe tbody tr th:only-of-type {\n",
       "        vertical-align: middle;\n",
       "    }\n",
       "\n",
       "    .dataframe tbody tr th {\n",
       "        vertical-align: top;\n",
       "    }\n",
       "\n",
       "    .dataframe thead th {\n",
       "        text-align: right;\n",
       "    }\n",
       "</style>\n",
       "<table border=\"1\" class=\"dataframe\">\n",
       "  <thead>\n",
       "    <tr style=\"text-align: right;\">\n",
       "      <th></th>\n",
       "      <th>FP Staff</th>\n",
       "      <th>fps_count</th>\n",
       "      <th>PTI</th>\n",
       "      <th>pti_count</th>\n",
       "      <th>Press trust of India</th>\n",
       "      <th>press_count</th>\n",
       "      <th>Scroll Staff</th>\n",
       "      <th>ss_count</th>\n",
       "      <th>The Quint</th>\n",
       "      <th>tq_count</th>\n",
       "    </tr>\n",
       "  </thead>\n",
       "  <tbody>\n",
       "    <tr>\n",
       "      <th>0</th>\n",
       "      <td>say</td>\n",
       "      <td>314</td>\n",
       "      <td>say</td>\n",
       "      <td>580</td>\n",
       "      <td>say</td>\n",
       "      <td>311</td>\n",
       "      <td>say</td>\n",
       "      <td>160</td>\n",
       "      <td>say</td>\n",
       "      <td>396</td>\n",
       "    </tr>\n",
       "    <tr>\n",
       "      <th>1</th>\n",
       "      <td>bjp</td>\n",
       "      <td>248</td>\n",
       "      <td>state</td>\n",
       "      <td>251</td>\n",
       "      <td>congress</td>\n",
       "      <td>181</td>\n",
       "      <td>party</td>\n",
       "      <td>86</td>\n",
       "      <td>source_</td>\n",
       "      <td>306</td>\n",
       "    </tr>\n",
       "    <tr>\n",
       "      <th>2</th>\n",
       "      <td>congress</td>\n",
       "      <td>229</td>\n",
       "      <td>bjp</td>\n",
       "      <td>232</td>\n",
       "      <td>bjp</td>\n",
       "      <td>166</td>\n",
       "      <td>report</td>\n",
       "      <td>81</td>\n",
       "      <td>tell</td>\n",
       "      <td>247</td>\n",
       "    </tr>\n",
       "    <tr>\n",
       "      <th>3</th>\n",
       "      <td>state</td>\n",
       "      <td>187</td>\n",
       "      <td>government</td>\n",
       "      <td>220</td>\n",
       "      <td>party</td>\n",
       "      <td>148</td>\n",
       "      <td>congress</td>\n",
       "      <td>60</td>\n",
       "      <td>firsttime_woman</td>\n",
       "      <td>180</td>\n",
       "    </tr>\n",
       "    <tr>\n",
       "      <th>4</th>\n",
       "      <td>government</td>\n",
       "      <td>151</td>\n",
       "      <td>congress</td>\n",
       "      <td>212</td>\n",
       "      <td>government</td>\n",
       "      <td>122</td>\n",
       "      <td>state</td>\n",
       "      <td>55</td>\n",
       "      <td>voter_want</td>\n",
       "      <td>180</td>\n",
       "    </tr>\n",
       "    <tr>\n",
       "      <th>5</th>\n",
       "      <td>also</td>\n",
       "      <td>146</td>\n",
       "      <td>say_</td>\n",
       "      <td>183</td>\n",
       "      <td>people</td>\n",
       "      <td>115</td>\n",
       "      <td>prime_minister</td>\n",
       "      <td>54</td>\n",
       "      <td>quints_campaign</td>\n",
       "      <td>180</td>\n",
       "    </tr>\n",
       "    <tr>\n",
       "      <th>6</th>\n",
       "      <td>chief_minister</td>\n",
       "      <td>142</td>\n",
       "      <td>party</td>\n",
       "      <td>160</td>\n",
       "      <td>say_</td>\n",
       "      <td>111</td>\n",
       "      <td>also</td>\n",
       "      <td>47</td>\n",
       "      <td>also</td>\n",
       "      <td>173</td>\n",
       "    </tr>\n",
       "    <tr>\n",
       "      <th>7</th>\n",
       "      <td>minister</td>\n",
       "      <td>135</td>\n",
       "      <td>also</td>\n",
       "      <td>159</td>\n",
       "      <td>state</td>\n",
       "      <td>111</td>\n",
       "      <td>people</td>\n",
       "      <td>46</td>\n",
       "      <td>police</td>\n",
       "      <td>133</td>\n",
       "    </tr>\n",
       "    <tr>\n",
       "      <th>8</th>\n",
       "      <td>party</td>\n",
       "      <td>127</td>\n",
       "      <td>people</td>\n",
       "      <td>155</td>\n",
       "      <td>leader</td>\n",
       "      <td>93</td>\n",
       "      <td>police</td>\n",
       "      <td>46</td>\n",
       "      <td>report</td>\n",
       "      <td>130</td>\n",
       "    </tr>\n",
       "    <tr>\n",
       "      <th>9</th>\n",
       "      <td>say_</td>\n",
       "      <td>121</td>\n",
       "      <td>would</td>\n",
       "      <td>130</td>\n",
       "      <td>also</td>\n",
       "      <td>85</td>\n",
       "      <td>bjp</td>\n",
       "      <td>45</td>\n",
       "      <td>say_</td>\n",
       "      <td>127</td>\n",
       "    </tr>\n",
       "    <tr>\n",
       "      <th>10</th>\n",
       "      <td>prime_minister</td>\n",
       "      <td>103</td>\n",
       "      <td>chief_minister</td>\n",
       "      <td>127</td>\n",
       "      <td>would</td>\n",
       "      <td>84</td>\n",
       "      <td>government</td>\n",
       "      <td>43</td>\n",
       "      <td>state</td>\n",
       "      <td>123</td>\n",
       "    </tr>\n",
       "    <tr>\n",
       "      <th>11</th>\n",
       "      <td>would</td>\n",
       "      <td>95</td>\n",
       "      <td>minister</td>\n",
       "      <td>121</td>\n",
       "      <td>minister</td>\n",
       "      <td>84</td>\n",
       "      <td>would</td>\n",
       "      <td>41</td>\n",
       "      <td>government</td>\n",
       "      <td>122</td>\n",
       "    </tr>\n",
       "    <tr>\n",
       "      <th>12</th>\n",
       "      <td>election</td>\n",
       "      <td>93</td>\n",
       "      <td>make</td>\n",
       "      <td>116</td>\n",
       "      <td>prime_minister</td>\n",
       "      <td>77</td>\n",
       "      <td>say_</td>\n",
       "      <td>41</td>\n",
       "      <td>make</td>\n",
       "      <td>119</td>\n",
       "    </tr>\n",
       "    <tr>\n",
       "      <th>13</th>\n",
       "      <td>make</td>\n",
       "      <td>92</td>\n",
       "      <td>leader</td>\n",
       "      <td>114</td>\n",
       "      <td>chief_minister</td>\n",
       "      <td>76</td>\n",
       "      <td>chief_minister</td>\n",
       "      <td>41</td>\n",
       "      <td>take</td>\n",
       "      <td>117</td>\n",
       "    </tr>\n",
       "    <tr>\n",
       "      <th>14</th>\n",
       "      <td>people</td>\n",
       "      <td>92</td>\n",
       "      <td>take</td>\n",
       "      <td>110</td>\n",
       "      <td>take</td>\n",
       "      <td>75</td>\n",
       "      <td>one</td>\n",
       "      <td>40</td>\n",
       "      <td>two</td>\n",
       "      <td>112</td>\n",
       "    </tr>\n",
       "  </tbody>\n",
       "</table>\n",
       "</div>"
      ],
      "text/plain": [
       "          FP Staff fps_count             PTI pti_count Press trust of India  \\\n",
       "0              say       314             say       580                  say   \n",
       "1              bjp       248           state       251             congress   \n",
       "2         congress       229             bjp       232                  bjp   \n",
       "3            state       187      government       220                party   \n",
       "4       government       151        congress       212           government   \n",
       "5             also       146            say_       183               people   \n",
       "6   chief_minister       142           party       160                 say_   \n",
       "7         minister       135            also       159                state   \n",
       "8            party       127          people       155               leader   \n",
       "9             say_       121           would       130                 also   \n",
       "10  prime_minister       103  chief_minister       127                would   \n",
       "11           would        95        minister       121             minister   \n",
       "12        election        93            make       116       prime_minister   \n",
       "13            make        92          leader       114       chief_minister   \n",
       "14          people        92            take       110                 take   \n",
       "\n",
       "   press_count    Scroll Staff ss_count        The Quint tq_count  \n",
       "0          311             say      160              say      396  \n",
       "1          181           party       86          source_      306  \n",
       "2          166          report       81             tell      247  \n",
       "3          148        congress       60  firsttime_woman      180  \n",
       "4          122           state       55       voter_want      180  \n",
       "5          115  prime_minister       54  quints_campaign      180  \n",
       "6          111            also       47             also      173  \n",
       "7          111          people       46           police      133  \n",
       "8           93          police       46           report      130  \n",
       "9           85             bjp       45             say_      127  \n",
       "10          84      government       43            state      123  \n",
       "11          84           would       41       government      122  \n",
       "12          77            say_       41             make      119  \n",
       "13          76  chief_minister       41             take      117  \n",
       "14          75             one       40              two      112  "
      ]
     },
     "execution_count": 20,
     "metadata": {},
     "output_type": "execute_result"
    }
   ],
   "source": [
    "#Getting top 15 words by category, taking bigrams into account.\n",
    "\n",
    "top_n = 15\n",
    "\n",
    "text_fps = df_fps['clean_content'].tolist()\n",
    "text_pti = df_pti['clean_content'].tolist()\n",
    "text_pressti = df_pressti['clean_content'].tolist()\n",
    "text_ss = df_ss['clean_content'].tolist()\n",
    "text_tq =  df_tq['clean_content'].tolist()\n",
    "\n",
    "fps = word_freq_bigrams(text_fps, top_n=top_n)\n",
    "pti = word_freq_bigrams(text_pti, top_n=top_n)\n",
    "pressti = word_freq_bigrams(text_pressti, top_n=top_n)\n",
    "ss = word_freq_bigrams(text_ss, top_n=top_n)\n",
    "tq = word_freq_bigrams(text_tq, top_n=top_n)\n",
    "\n",
    "df_wf = pd.concat([fps,pti,pressti,ss,tq], axis=1)\n",
    "cols = ['FP Staff','fps_count', 'PTI','pti_count', 'Press trust of India','press_count', 'Scroll Staff','ss_count', 'The Quint', 'tq_count']\n",
    "df_wf.columns = cols\n",
    "df_wf"
   ]
  },
  {
   "cell_type": "markdown",
   "metadata": {},
   "source": [
    "> Most correlated unigrams for all authors are: STATE, PARTY, BJP, GOVERNMENT"
   ]
  },
  {
   "cell_type": "code",
   "execution_count": 21,
   "metadata": {},
   "outputs": [
    {
     "data": {
      "text/html": [
       "<div>\n",
       "<style scoped>\n",
       "    .dataframe tbody tr th:only-of-type {\n",
       "        vertical-align: middle;\n",
       "    }\n",
       "\n",
       "    .dataframe tbody tr th {\n",
       "        vertical-align: top;\n",
       "    }\n",
       "\n",
       "    .dataframe thead th {\n",
       "        text-align: right;\n",
       "    }\n",
       "</style>\n",
       "<table border=\"1\" class=\"dataframe\">\n",
       "  <thead>\n",
       "    <tr style=\"text-align: right;\">\n",
       "      <th></th>\n",
       "      <th>FP Staff</th>\n",
       "      <th>fps_count</th>\n",
       "      <th>PTI</th>\n",
       "      <th>pti_count</th>\n",
       "      <th>Press trust of India</th>\n",
       "      <th>press_count</th>\n",
       "      <th>Scroll Staff</th>\n",
       "      <th>ss_count</th>\n",
       "      <th>The Quint</th>\n",
       "      <th>tq_count</th>\n",
       "    </tr>\n",
       "  </thead>\n",
       "  <tbody>\n",
       "    <tr>\n",
       "      <th>0</th>\n",
       "      <td>chief_minister</td>\n",
       "      <td>142</td>\n",
       "      <td>say_</td>\n",
       "      <td>183</td>\n",
       "      <td>say_</td>\n",
       "      <td>111</td>\n",
       "      <td>prime_minister</td>\n",
       "      <td>54</td>\n",
       "      <td>source_</td>\n",
       "      <td>306</td>\n",
       "    </tr>\n",
       "    <tr>\n",
       "      <th>1</th>\n",
       "      <td>say_</td>\n",
       "      <td>121</td>\n",
       "      <td>chief_minister</td>\n",
       "      <td>127</td>\n",
       "      <td>prime_minister</td>\n",
       "      <td>77</td>\n",
       "      <td>say_</td>\n",
       "      <td>41</td>\n",
       "      <td>firsttime_woman</td>\n",
       "      <td>180</td>\n",
       "    </tr>\n",
       "    <tr>\n",
       "      <th>2</th>\n",
       "      <td>prime_minister</td>\n",
       "      <td>103</td>\n",
       "      <td>prime_minister</td>\n",
       "      <td>101</td>\n",
       "      <td>chief_minister</td>\n",
       "      <td>76</td>\n",
       "      <td>chief_minister</td>\n",
       "      <td>41</td>\n",
       "      <td>voter_want</td>\n",
       "      <td>180</td>\n",
       "    </tr>\n",
       "    <tr>\n",
       "      <th>3</th>\n",
       "      <td>party_</td>\n",
       "      <td>74</td>\n",
       "      <td>lok_sabha</td>\n",
       "      <td>78</td>\n",
       "      <td>party_</td>\n",
       "      <td>58</td>\n",
       "      <td>india_</td>\n",
       "      <td>33</td>\n",
       "      <td>quints_campaign</td>\n",
       "      <td>180</td>\n",
       "    </tr>\n",
       "    <tr>\n",
       "      <th>4</th>\n",
       "      <td>however_</td>\n",
       "      <td>71</td>\n",
       "      <td>however_</td>\n",
       "      <td>65</td>\n",
       "      <td>lok_sabha</td>\n",
       "      <td>53</td>\n",
       "      <td>party_</td>\n",
       "      <td>31</td>\n",
       "      <td>say_</td>\n",
       "      <td>127</td>\n",
       "    </tr>\n",
       "    <tr>\n",
       "      <th>5</th>\n",
       "      <td>lok_sabha</td>\n",
       "      <td>69</td>\n",
       "      <td>uttar_pradesh</td>\n",
       "      <td>64</td>\n",
       "      <td>state_</td>\n",
       "      <td>42</td>\n",
       "      <td>bharatiya_janata</td>\n",
       "      <td>30</td>\n",
       "      <td>prime_minister</td>\n",
       "      <td>79</td>\n",
       "    </tr>\n",
       "    <tr>\n",
       "      <th>6</th>\n",
       "      <td>jd_</td>\n",
       "      <td>69</td>\n",
       "      <td>party_</td>\n",
       "      <td>63</td>\n",
       "      <td>narendra_modi</td>\n",
       "      <td>36</td>\n",
       "      <td>state_</td>\n",
       "      <td>24</td>\n",
       "      <td>chief_minister</td>\n",
       "      <td>74</td>\n",
       "    </tr>\n",
       "    <tr>\n",
       "      <th>7</th>\n",
       "      <td>narendra_modi</td>\n",
       "      <td>68</td>\n",
       "      <td>narendra_modi</td>\n",
       "      <td>59</td>\n",
       "      <td>opposition_party</td>\n",
       "      <td>30</td>\n",
       "      <td>supreme_court</td>\n",
       "      <td>23</td>\n",
       "      <td>however_</td>\n",
       "      <td>67</td>\n",
       "    </tr>\n",
       "    <tr>\n",
       "      <th>8</th>\n",
       "      <td>uttar_pradesh</td>\n",
       "      <td>47</td>\n",
       "      <td>supreme_court</td>\n",
       "      <td>57</td>\n",
       "      <td>election_</td>\n",
       "      <td>28</td>\n",
       "      <td>however_</td>\n",
       "      <td>22</td>\n",
       "      <td>party_</td>\n",
       "      <td>58</td>\n",
       "    </tr>\n",
       "    <tr>\n",
       "      <th>9</th>\n",
       "      <td>rahul_gandhi</td>\n",
       "      <td>38</td>\n",
       "      <td>jd_</td>\n",
       "      <td>50</td>\n",
       "      <td>rahul_gandhi</td>\n",
       "      <td>27</td>\n",
       "      <td>government_</td>\n",
       "      <td>22</td>\n",
       "      <td>india_</td>\n",
       "      <td>57</td>\n",
       "    </tr>\n",
       "    <tr>\n",
       "      <th>10</th>\n",
       "      <td>rajya_sabha</td>\n",
       "      <td>37</td>\n",
       "      <td>firsttime_woman</td>\n",
       "      <td>48</td>\n",
       "      <td>jd_</td>\n",
       "      <td>26</td>\n",
       "      <td>pti_report</td>\n",
       "      <td>21</td>\n",
       "      <td>supreme_court</td>\n",
       "      <td>57</td>\n",
       "    </tr>\n",
       "    <tr>\n",
       "      <th>11</th>\n",
       "      <td>election_</td>\n",
       "      <td>36</td>\n",
       "      <td>voter_want</td>\n",
       "      <td>48</td>\n",
       "      <td>assembly_poll</td>\n",
       "      <td>23</td>\n",
       "      <td>people_</td>\n",
       "      <td>21</td>\n",
       "      <td>bjp_</td>\n",
       "      <td>56</td>\n",
       "    </tr>\n",
       "    <tr>\n",
       "      <th>12</th>\n",
       "      <td>andhra_pradesh</td>\n",
       "      <td>31</td>\n",
       "      <td>quints_campaign</td>\n",
       "      <td>48</td>\n",
       "      <td>madhya_pradesh</td>\n",
       "      <td>23</td>\n",
       "      <td>right_</td>\n",
       "      <td>18</td>\n",
       "      <td>state_</td>\n",
       "      <td>51</td>\n",
       "    </tr>\n",
       "    <tr>\n",
       "      <th>13</th>\n",
       "      <td>west_bengal</td>\n",
       "      <td>30</td>\n",
       "      <td>u_</td>\n",
       "      <td>43</td>\n",
       "      <td>congress_president</td>\n",
       "      <td>23</td>\n",
       "      <td>narendra_modi</td>\n",
       "      <td>17</td>\n",
       "      <td>thursday_</td>\n",
       "      <td>51</td>\n",
       "    </tr>\n",
       "    <tr>\n",
       "      <th>14</th>\n",
       "      <td>opposition_party</td>\n",
       "      <td>29</td>\n",
       "      <td>apex_court</td>\n",
       "      <td>40</td>\n",
       "      <td>bharatiya_janata</td>\n",
       "      <td>21</td>\n",
       "      <td>bjp_</td>\n",
       "      <td>17</td>\n",
       "      <td>wednesday_</td>\n",
       "      <td>49</td>\n",
       "    </tr>\n",
       "  </tbody>\n",
       "</table>\n",
       "</div>"
      ],
      "text/plain": [
       "            FP Staff fps_count              PTI pti_count  \\\n",
       "0     chief_minister       142             say_       183   \n",
       "1               say_       121   chief_minister       127   \n",
       "2     prime_minister       103   prime_minister       101   \n",
       "3             party_        74        lok_sabha        78   \n",
       "4           however_        71         however_        65   \n",
       "5          lok_sabha        69    uttar_pradesh        64   \n",
       "6                jd_        69           party_        63   \n",
       "7      narendra_modi        68    narendra_modi        59   \n",
       "8      uttar_pradesh        47    supreme_court        57   \n",
       "9       rahul_gandhi        38              jd_        50   \n",
       "10       rajya_sabha        37  firsttime_woman        48   \n",
       "11         election_        36       voter_want        48   \n",
       "12    andhra_pradesh        31  quints_campaign        48   \n",
       "13       west_bengal        30               u_        43   \n",
       "14  opposition_party        29       apex_court        40   \n",
       "\n",
       "   Press trust of India press_count      Scroll Staff ss_count  \\\n",
       "0                  say_         111    prime_minister       54   \n",
       "1        prime_minister          77              say_       41   \n",
       "2        chief_minister          76    chief_minister       41   \n",
       "3                party_          58            india_       33   \n",
       "4             lok_sabha          53            party_       31   \n",
       "5                state_          42  bharatiya_janata       30   \n",
       "6         narendra_modi          36            state_       24   \n",
       "7      opposition_party          30     supreme_court       23   \n",
       "8             election_          28          however_       22   \n",
       "9          rahul_gandhi          27       government_       22   \n",
       "10                  jd_          26        pti_report       21   \n",
       "11        assembly_poll          23           people_       21   \n",
       "12       madhya_pradesh          23            right_       18   \n",
       "13   congress_president          23     narendra_modi       17   \n",
       "14     bharatiya_janata          21              bjp_       17   \n",
       "\n",
       "          The Quint tq_count  \n",
       "0           source_      306  \n",
       "1   firsttime_woman      180  \n",
       "2        voter_want      180  \n",
       "3   quints_campaign      180  \n",
       "4              say_      127  \n",
       "5    prime_minister       79  \n",
       "6    chief_minister       74  \n",
       "7          however_       67  \n",
       "8            party_       58  \n",
       "9            india_       57  \n",
       "10    supreme_court       57  \n",
       "11             bjp_       56  \n",
       "12           state_       51  \n",
       "13        thursday_       51  \n",
       "14       wednesday_       49  "
      ]
     },
     "execution_count": 21,
     "metadata": {},
     "output_type": "execute_result"
    }
   ],
   "source": [
    "#Top 15 bigrams by category\n",
    "\n",
    "fps_bigrams = bigram_freq(text_fps, top_n = top_n)\n",
    "pti_bigrams = bigram_freq(text_pti, top_n = top_n)\n",
    "pressti_bigrams = bigram_freq(text_pressti, top_n = top_n)\n",
    "ss_bigrams = bigram_freq(text_ss, top_n = top_n)\n",
    "tq_bigrams = bigram_freq(text_tq, top_n = top_n)\n",
    "df_bigram_wf = pd.concat([fps_bigrams, pti_bigrams, pressti_bigrams, ss_bigrams,tq_bigrams], axis=1)\n",
    "df_bigram_wf.columns = cols\n",
    "df_bigram_wf"
   ]
  },
  {
   "cell_type": "markdown",
   "metadata": {},
   "source": [
    "> Top 2 correlated bigrams for all authors are: Prime_minster & Cheif_minster"
   ]
  },
  {
   "cell_type": "markdown",
   "metadata": {},
   "source": [
    "---\n",
    "\n",
    "### Feature Extraction\n",
    "\n",
    "---\n",
    ">  Text-features are useful because they are related to the way the author is writing. So they are a useful to extract some generalized facts about each one of the authors."
   ]
  },
  {
   "cell_type": "code",
   "execution_count": 22,
   "metadata": {},
   "outputs": [],
   "source": [
    "# full text content from the authors as an array\n",
    "tq = df_train[df_train.author == \"The Quint\"][\"content\"].values\n",
    "pti = df_train[df_train.author == \"PTI\"][\"content\"].values\n",
    "press = df_train[df_train.author == \"Press Trust of India\"][\"content\"].values\n",
    "fps = df_train[df_train.author == \"FP Staff\"][\"content\"].values\n",
    "ss = df_train[df_train.author == \"Scroll Staff\"][\"content\"].values\n",
    "\n",
    "# full text content from the authors as a string\n",
    "tq_s = \" \".join(tq)\n",
    "pti_s = \" \".join(pti)\n",
    "press_s = \" \".join(press)\n",
    "fps_s = \" \".join(fps)\n",
    "ss_s = \" \".join(ss)\n",
    "\n",
    "# full plain text (with no capital and punctuation) \n",
    "tq_s_c = features.cleaning(tq_s)\n",
    "pti_s_c = features.cleaning(pti_s)\n",
    "press_s_c = features.cleaning(press_s)\n",
    "fps_s_c = features.cleaning(fps_s)\n",
    "ss_s_c = features.cleaning(ss_s)"
   ]
  },
  {
   "cell_type": "code",
   "execution_count": 23,
   "metadata": {},
   "outputs": [
    {
     "data": {
      "text/html": [
       "<div>\n",
       "<style scoped>\n",
       "    .dataframe tbody tr th:only-of-type {\n",
       "        vertical-align: middle;\n",
       "    }\n",
       "\n",
       "    .dataframe tbody tr th {\n",
       "        vertical-align: top;\n",
       "    }\n",
       "\n",
       "    .dataframe thead th {\n",
       "        text-align: right;\n",
       "    }\n",
       "</style>\n",
       "<table border=\"1\" class=\"dataframe\">\n",
       "  <thead>\n",
       "    <tr style=\"text-align: right;\">\n",
       "      <th></th>\n",
       "      <th>author</th>\n",
       "      <th>content</th>\n",
       "      <th>norm_count_emph</th>\n",
       "      <th>norm_count_dial</th>\n",
       "      <th>norm_count_dial_break</th>\n",
       "      <th>norm_break_to_dial_ratio</th>\n",
       "      <th>norm_count_fem</th>\n",
       "      <th>norm_count_mas</th>\n",
       "      <th>norm_fem_to_mas_ratio</th>\n",
       "    </tr>\n",
       "  </thead>\n",
       "  <tbody>\n",
       "    <tr>\n",
       "      <th>0</th>\n",
       "      <td>The Quint</td>\n",
       "      <td>Fourth time this season, heavy rains paralysed...</td>\n",
       "      <td>0.267760</td>\n",
       "      <td>0.830601</td>\n",
       "      <td>0.109290</td>\n",
       "      <td>0.131579</td>\n",
       "      <td>3.404372</td>\n",
       "      <td>6.071038</td>\n",
       "      <td>0.560756</td>\n",
       "    </tr>\n",
       "    <tr>\n",
       "      <th>1</th>\n",
       "      <td>PTI</td>\n",
       "      <td>The BJP has made a significant gain of 11 addi...</td>\n",
       "      <td>0.658436</td>\n",
       "      <td>3.098765</td>\n",
       "      <td>0.242798</td>\n",
       "      <td>0.078353</td>\n",
       "      <td>1.255144</td>\n",
       "      <td>4.831276</td>\n",
       "      <td>0.259796</td>\n",
       "    </tr>\n",
       "    <tr>\n",
       "      <th>2</th>\n",
       "      <td>Press Trust of India</td>\n",
       "      <td>Goa chief minister Manohar Parrikar will meet...</td>\n",
       "      <td>1.047170</td>\n",
       "      <td>4.801887</td>\n",
       "      <td>0.537736</td>\n",
       "      <td>0.111984</td>\n",
       "      <td>1.169811</td>\n",
       "      <td>7.122642</td>\n",
       "      <td>0.164238</td>\n",
       "    </tr>\n",
       "    <tr>\n",
       "      <th>3</th>\n",
       "      <td>FP Staff</td>\n",
       "      <td>Rajya Sabha saw two disruptions on Thursday al...</td>\n",
       "      <td>0.991150</td>\n",
       "      <td>4.212389</td>\n",
       "      <td>0.584071</td>\n",
       "      <td>0.138655</td>\n",
       "      <td>1.106195</td>\n",
       "      <td>7.345133</td>\n",
       "      <td>0.150602</td>\n",
       "    </tr>\n",
       "    <tr>\n",
       "      <th>4</th>\n",
       "      <td>Scroll Staff</td>\n",
       "      <td>The Bharatiya Janata Party received Rs 167.8 c...</td>\n",
       "      <td>0.000000</td>\n",
       "      <td>0.044776</td>\n",
       "      <td>0.000000</td>\n",
       "      <td>0.000000</td>\n",
       "      <td>1.149254</td>\n",
       "      <td>4.462687</td>\n",
       "      <td>0.257525</td>\n",
       "    </tr>\n",
       "  </tbody>\n",
       "</table>\n",
       "</div>"
      ],
      "text/plain": [
       "                 author                                            content  \\\n",
       "0             The Quint  Fourth time this season, heavy rains paralysed...   \n",
       "1                   PTI  The BJP has made a significant gain of 11 addi...   \n",
       "2  Press Trust of India   Goa chief minister Manohar Parrikar will meet...   \n",
       "3              FP Staff  Rajya Sabha saw two disruptions on Thursday al...   \n",
       "4          Scroll Staff  The Bharatiya Janata Party received Rs 167.8 c...   \n",
       "\n",
       "   norm_count_emph  norm_count_dial  norm_count_dial_break  \\\n",
       "0         0.267760         0.830601               0.109290   \n",
       "1         0.658436         3.098765               0.242798   \n",
       "2         1.047170         4.801887               0.537736   \n",
       "3         0.991150         4.212389               0.584071   \n",
       "4         0.000000         0.044776               0.000000   \n",
       "\n",
       "   norm_break_to_dial_ratio  norm_count_fem  norm_count_mas  \\\n",
       "0                  0.131579        3.404372        6.071038   \n",
       "1                  0.078353        1.255144        4.831276   \n",
       "2                  0.111984        1.169811        7.122642   \n",
       "3                  0.138655        1.106195        7.345133   \n",
       "4                  0.000000        1.149254        4.462687   \n",
       "\n",
       "   norm_fem_to_mas_ratio  \n",
       "0               0.560756  \n",
       "1               0.259796  \n",
       "2               0.164238  \n",
       "3               0.150602  \n",
       "4               0.257525  "
      ]
     },
     "execution_count": 23,
     "metadata": {},
     "output_type": "execute_result"
    }
   ],
   "source": [
    "df_textfeature = pd.DataFrame([[\"The Quint\", tq_s], [\"PTI\", pti_s], [\"Press Trust of India\", press_s],[\"FP Staff\",fps_s],[\"Scroll Staff\",ss_s]])\n",
    "df_textfeature.columns = ['author', 'content']\n",
    "\n",
    "for f in [features.count_emph, features.count_dial, features.count_dial_break, features.break_to_dial_ratio, features.count_fem, features.count_mas, features.fem_to_mas_ratio]:\n",
    "    df_textfeature['norm_' + f.__name__] = df_textfeature.content.apply(f)\n",
    "    \n",
    "for f in [features.count_emph, features.count_dial, features.count_dial_break, features.count_fem, features.count_mas]: # normalization of count_emph, count_dial, and count_dial_break\n",
    "    df_textfeature['norm_' + f.__name__] = df_textfeature['norm_' + f.__name__] / df_textfeature.author.apply(lambda x: len(df_train[df_train.author == x]))\n",
    "    \n",
    "df_textfeature.head()"
   ]
  },
  {
   "cell_type": "code",
   "execution_count": 24,
   "metadata": {},
   "outputs": [
    {
     "data": {
      "image/png": "[encoded data removed]",
      "text/plain": [
       "<Figure size 576x396 with 1 Axes>"
      ]
     },
     "metadata": {},
     "output_type": "display_data"
    },
    {
     "data": {
      "image/png": "[encoded data removed]",
      "text/plain": [
       "<Figure size 576x396 with 1 Axes>"
      ]
     },
     "metadata": {},
     "output_type": "display_data"
    },
    {
     "data": {
      "image/png": "[encoded data removed]",
      "text/plain": [
       "<Figure size 576x396 with 1 Axes>"
      ]
     },
     "metadata": {},
     "output_type": "display_data"
    },
    {
     "data": {
      "image/png": "[encoded data removed]",
      "text/plain": [
       "<Figure size 576x396 with 1 Axes>"
      ]
     },
     "metadata": {},
     "output_type": "display_data"
    },
    {
     "data": {
      "image/png": "[encoded data removed]",
      "text/plain": [
       "<Figure size 576x396 with 1 Axes>"
      ]
     },
     "metadata": {},
     "output_type": "display_data"
    },
    {
     "data": {
      "image/png": "[encoded data removed]",
      "text/plain": [
       "<Figure size 576x396 with 1 Axes>"
      ]
     },
     "metadata": {},
     "output_type": "display_data"
    },
    {
     "data": {
      "image/png": "[encoded data removed]",
      "text/plain": [
       "<Figure size 576x396 with 1 Axes>"
      ]
     },
     "metadata": {},
     "output_type": "display_data"
    }
   ],
   "source": [
    "for c in df_textfeature.columns[2:]:\n",
    "    plt.style.use('seaborn')\n",
    "    sns.barplot(x='author', y=c, data=df_textfeature,  palette=\"Paired\")\n",
    "    plt.title('Meta {}'.format(c))\n",
    "    plt.show()"
   ]
  },
  {
   "cell_type": "markdown",
   "metadata": {},
   "source": [
    "> **Observation :-***\n",
    "1. Author- **'Press Trust of India'** and **'FP Staff'** writting style is very similar on basis of meta features extracted. Like both the authors prefer use of emphases as well as dialogue content more than other authors.\n",
    "2. Author- **'The Quit'** uses words termed under the category of feminine as well as masculine words.\n",
    "3. The nature of Scroll Staff could not be exactly analysed for few features."
   ]
  },
  {
   "cell_type": "markdown",
   "metadata": {},
   "source": [
    "### The count of masculine/feminine words: to observe some word preferences per author."
   ]
  },
  {
   "cell_type": "code",
   "execution_count": 25,
   "metadata": {},
   "outputs": [
    {
     "data": {
      "image/png": "[encoded data removed]",
      "text/plain": [
       "<Figure size 576x396 with 5 Axes>"
      ]
     },
     "metadata": {},
     "output_type": "display_data"
    }
   ],
   "source": [
    "fig, (ax1, ax2, ax3, ax4,ax5) = plt.subplots(1, 5, sharey=True)\n",
    "fem_words = 'her she herself girl woman lady queen daughter madam madame wife women princess'.split()\n",
    "\n",
    "plt.suptitle('Normalized Feminine Word Count', y=1.02)\n",
    "\n",
    "xlmt = 0\n",
    "for auth in [(tq_s_c, 'The Quint'), (pti_s_c, 'PTI'), (press_s_c, 'Press Trust of India'), (ss_s_c, 'Scroll Staff'),(fps_s_c,'FP Staff')]:\n",
    "    for word in fem_words:\n",
    "        norm_count = auth[0].count(word) / len(df_train[df_train.author == auth[1]])\n",
    "        if norm_count > xlmt:\n",
    "            xlmt = norm_count\n",
    "\n",
    "for ax in ((ax1, tq_s_c, 'darkblue', 'The Quint'), (ax2, pti_s_c, 'darkgreen', 'PTI'), (ax3, press_s_c, 'darkred', 'Press Trust of India'),(ax4,ss_s_c,'orange','Scroll Staff'),(ax5, fps_s_c,'brown','FP Staff')):\n",
    "    y = np.arange(len(fem_words))\n",
    "    x = [ax[1].count(word) / len(df_train[df_train.author == ax[3]]) for word in fem_words]\n",
    "    ax[0].barh(y, x, align='center',\n",
    "            color=ax[2], ecolor='black')\n",
    "    ax[0].set_yticks(y)\n",
    "    ax[0].set_yticklabels(fem_words)\n",
    "    ax[0].invert_yaxis()\n",
    "    ax[0].set_title(ax[3])\n",
    "    ax[0].set_xlim([0, xlmt])\n",
    "    \n",
    "plt.tight_layout()\n",
    "# plt.savefig('data/Meta feminine word count')\n",
    "plt.show()"
   ]
  },
  {
   "cell_type": "code",
   "execution_count": 26,
   "metadata": {},
   "outputs": [
    {
     "data": {
      "image/png": "[encoded data removed]",
      "text/plain": [
       "<Figure size 576x396 with 5 Axes>"
      ]
     },
     "metadata": {},
     "output_type": "display_data"
    }
   ],
   "source": [
    "fig, (ax1, ax2, ax3, ax4,ax5) = plt.subplots(1, 5, sharey=True)\n",
    "mas_words = 'he his men man king son himself mr boy gentleman prince sir gentlemen husband mister'.split()\n",
    "\n",
    "plt.suptitle('Normalized Masculine Word Count', y=1.02)\n",
    "\n",
    "xlmt = 0\n",
    "for auth in [(tq_s_c, 'The Quint'), (pti_s_c, 'PTI'), (press_s_c, 'Press Trust of India'), (ss_s_c, 'Scroll Staff'),(fps_s_c,'FP Staff')]:\n",
    "    for word in mas_words:\n",
    "        norm_count = auth[0].count(word) / len(df_train[df_train.author == auth[1]])\n",
    "        if norm_count > xlmt:\n",
    "            xlmt = norm_count\n",
    "            \n",
    "for ax in ((ax1, tq_s_c, 'darkblue', 'The Quint'), (ax2, pti_s_c, 'darkgreen', 'PTI'), (ax3, press_s_c, 'darkred', 'Press Trust of India'),(ax4,ss_s_c,'orange','Scroll Staff'),(ax5, fps_s_c,'brown','FP Staff')):\n",
    "    y = np.arange(len(mas_words))\n",
    "    x = [ax[1].count(word) / len(df_train[df_train.author == ax[3]]) for word in mas_words]\n",
    "    ax[0].barh(y, x, align='center',\n",
    "            color=ax[2], ecolor='black')\n",
    "    ax[0].set_yticks(y)\n",
    "    ax[0].set_yticklabels(mas_words)\n",
    "    ax[0].invert_yaxis()\n",
    "    ax[0].set_title(ax[3])\n",
    "    ax[0].set_xlim([0, xlmt])\n",
    "    \n",
    "plt.tight_layout()\n",
    "# plt.savefig('data/Meta masculine word count')\n",
    "plt.show()"
   ]
  },
  {
   "cell_type": "markdown",
   "metadata": {},
   "source": [
    ">**Observation:**\n",
    "The words, 'her, she & he' is a way lot more used by all the authors."
   ]
  },
  {
   "cell_type": "code",
   "execution_count": 27,
   "metadata": {},
   "outputs": [],
   "source": [
    "def build_meta(dataframe):\n",
    "    \"\"\"Building a dataframe that shows the author and the other meta-data related to the sentence.\"\"\"\n",
    "    df_meta = dataframe.copy()\n",
    "    list_meta = [features.length_character,\n",
    "             features.length_sentence,\n",
    "             features.length_word,  \n",
    "             features.vocabulary_sentence,\n",
    "             features.density_stopword,\n",
    "             features.density_noun,\n",
    "             features.density_verb,\n",
    "             features.density_adjective,\n",
    "             features.adjective_to_noun,\n",
    "             features.density_coma,\n",
    "             features.density_point,\n",
    "             features.density_colon,\n",
    "             features.density_semicolon,\n",
    "             features.density_interro,\n",
    "             features.density_expl\n",
    "            ]\n",
    "    for f in list_meta:\n",
    "        df_meta[f.__name__] = df_meta.content.apply(f)\n",
    "    return df_meta"
   ]
  },
  {
   "cell_type": "code",
   "execution_count": null,
   "metadata": {},
   "outputs": [],
   "source": [
    "df_metadata= build_meta(df_train)\n",
    "df_metadata.head()"
   ]
  },
  {
   "cell_type": "code",
   "execution_count": null,
   "metadata": {},
   "outputs": [],
   "source": [
    "for c in df_metadata.columns[4:]:\n",
    "    plt.style.use('seaborn')\n",
    "    sns.barplot(x='author', y=c, data=df_metadata,palette=\"Paired\")\n",
    "    plt.title('Meta {}'.format(c))\n",
    "#     plt.savefig('data/Meta {}'.format(c))\n",
    "    plt.show()"
   ]
  },
  {
   "cell_type": "markdown",
   "metadata": {},
   "source": [
    "> observation: Special characters like colon, semi-colon and exclamation are used less."
   ]
  },
  {
   "cell_type": "markdown",
   "metadata": {},
   "source": [
    "### Observing emotions in content \n",
    "\n",
    "> Based on NRC data: 8 emotions (NRC-emotion-lexicon-wordlevel-alphabetized-v0.92.txt is used for the purpose)\n",
    "\n",
    "Emotion analysis attributes emotional score for emotion features.\n",
    "\n",
    ">'positive' ,'anger', 'disgust','fear','negative','sadness','anticipation','joy','surprise' &'trust'"
   ]
  },
  {
   "cell_type": "code",
   "execution_count": null,
   "metadata": {},
   "outputs": [],
   "source": [
    "df_datatext = features.emotions(df_train)\n",
    "df_datatext.head()"
   ]
  },
  {
   "cell_type": "code",
   "execution_count": null,
   "metadata": {},
   "outputs": [],
   "source": [
    "for c in df_datatext.columns[4:]:\n",
    "    plt.style.use('seaborn')\n",
    "    sns.barplot(x='author', y=c, data=df_datatext,palette=\"Paired\")\n",
    "    plt.title('Emotions {}'.format(c))\n",
    "    plt.show()"
   ]
  },
  {
   "cell_type": "markdown",
   "metadata": {},
   "source": [
    "> Future Scope: For analysis purpose we can also go for evaluating sentiment of the content or apply topic modelling to get entities out of author's content"
   ]
  },
  {
   "cell_type": "code",
   "execution_count": null,
   "metadata": {},
   "outputs": [],
   "source": []
  }
 ],
 "metadata": {
  "kernelspec": {
   "display_name": "Python 3",
   "language": "python",
   "name": "python3"
  },
  "language_info": {
   "codemirror_mode": {
    "name": "ipython",
    "version": 3
   },
   "file_extension": ".py",
   "mimetype": "text/x-python",
   "name": "python",
   "nbconvert_exporter": "python",
   "pygments_lexer": "ipython3",
   "version": "3.8.5"
  }
 },
 "nbformat": 4,
 "nbformat_minor": 4
}
